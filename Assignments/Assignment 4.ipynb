{
 "cells": [
  {
   "cell_type": "markdown",
   "metadata": {},
   "source": [
    "# Name:\n",
    "# email: "
   ]
  },
  {
   "cell_type": "markdown",
   "metadata": {},
   "source": [
    "# Assignment 4\n",
    "\n",
    "- Be sure to **document your work** (or I will not give any credit to that question).\n",
    "- Always import any packages that you use at the top of your assignment. \n",
    "- Be sure to includes you name and email address in the jupyter notebook that you turn in. \n",
    "- Include any links or sources that helped you answer questions (or points will be deducted).\n",
    "- You may work together, but you must submit your **own** work. \n",
    "- Be sure to include the names of people that you worked with.\n"
   ]
  },
  {
   "cell_type": "markdown",
   "metadata": {},
   "source": [
    "# Question 1\n",
    "\n",
    "Using the dataset \"us-cities-top-1k-multi-year.csv\" uploaded in the assignments folder on github:\n",
    "1. Create a line graph of total population over time for the states: NY, PA, CT, NJ (10 pts)\n",
    "2. Be sure to include a title of the graph, labels on your axis, and a legend. (5 pts)\n",
    "3. Specify colors to be used in your code. (5 pts)"
   ]
  },
  {
   "cell_type": "markdown",
   "metadata": {},
   "source": [
    "# Question 2\n",
    "Using the dataset \"us-cities-top-1k-multi-year.csv\" uploaded in the assignments folder on github:\n",
    "1. Create a Bar Graph of the total population for 5 cities in the state of New York comparing 2014 years and 2018 years (15 pts)\n",
    "2. Be sure to include a title of the graph, labels on your axis, and a legend. (5 pts)"
   ]
  },
  {
   "cell_type": "markdown",
   "metadata": {},
   "source": [
    "# Question 3\n",
    "\n",
    "With your own data:\n",
    "1. Create 2 graphs between two variables. Be sure to include the title, labels of both axis. Include a legend if necessary. Be sure that nothing overlaps in the graph (words or legends, etc). (20 pts)\n",
    "2. Write 1-2 sentences that describe the main information presented and a conclusion that you could draw from that graph. (5 pts)\n",
    "3. Display the graphs side by side in one figure. (5pts)"
   ]
  },
  {
   "cell_type": "markdown",
   "metadata": {},
   "source": [
    "Bonus: Do an extra graph that is not a line graph or bar chart (with proper labels and titles) for +5 points on any one assignment"
   ]
  },
  {
   "cell_type": "code",
   "execution_count": null,
   "metadata": {},
   "outputs": [],
   "source": []
  }
 ],
 "metadata": {
  "kernelspec": {
   "display_name": "Python 3",
   "language": "python",
   "name": "python3"
  },
  "language_info": {
   "codemirror_mode": {
    "name": "ipython",
    "version": 3
   },
   "file_extension": ".py",
   "mimetype": "text/x-python",
   "name": "python",
   "nbconvert_exporter": "python",
   "pygments_lexer": "ipython3",
   "version": "3.8.3"
  }
 },
 "nbformat": 4,
 "nbformat_minor": 4
}
