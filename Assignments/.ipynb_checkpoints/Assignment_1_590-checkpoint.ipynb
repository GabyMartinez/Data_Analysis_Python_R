{
 "cells": [
  {
   "cell_type": "markdown",
   "metadata": {},
   "source": [
    "# Assignment 1\n",
    "\n",
    "You may work in groups, but you must submit your own work. If you worked with others, please be sure to include their names in your submitted work. \n",
    "\n",
    "Be sure to document your work (points will be deducted without documentation). Always import any packages that you use at the top of your assignment. Be sure to includes you name and email address in the jupyter notebook that you turn in.  \n",
    "\n",
    "Each question is worth 10 points.\n",
    "\n",
    "Use the power of the internet when you're stuck or need to find a function to execute it."
   ]
  },
  {
   "cell_type": "markdown",
   "metadata": {},
   "source": [
    "## Question 1\n",
    "Please tell me what the function `np.histogram()` does in your own words. What are the required arguments and optional arguments? In your answer, tell me how you looked up the function (include links to any websites or internal function in python that you used).\n"
   ]
  },
  {
   "cell_type": "markdown",
   "metadata": {},
   "source": [
    "### Write your code answer here:"
   ]
  },
  {
   "cell_type": "markdown",
   "metadata": {},
   "source": []
  },
  {
   "cell_type": "markdown",
   "metadata": {},
   "source": [
    "## Question 2\n",
    "Identify all of the lists (and explain why):\n",
    "1. np.std()\n",
    "2. print(['hello', 67, 85, '25'])\n",
    "3. ['fall','spring','summer','winter']\n",
    "4. {'a':1, 'b':2, 'c': 3, 'd':4, 'e':5, 'g':6}\n",
    "5. [[1,45],[56,89],[88,45]]\n",
    "6. ('August','September', 'October','November','December')"
   ]
  },
  {
   "cell_type": "markdown",
   "metadata": {},
   "source": [
    "### Write your answer here:"
   ]
  },
  {
   "cell_type": "markdown",
   "metadata": {},
   "source": []
  },
  {
   "cell_type": "markdown",
   "metadata": {},
   "source": [
    "## Question 3\n",
    "Write a python script that prints numbers 30 through 100 by every 10 except 70."
   ]
  },
  {
   "cell_type": "markdown",
   "metadata": {},
   "source": [
    "### Write your code here:"
   ]
  },
  {
   "cell_type": "code",
   "execution_count": null,
   "metadata": {},
   "outputs": [],
   "source": []
  },
  {
   "cell_type": "markdown",
   "metadata": {},
   "source": [
    "## Question 4\n",
    "1. Write a python script that prints 'even' for every even number \n",
    "2. and creates a new list of even numbers in the series:\n",
    "[1,2,3,7,9,34,56,70,90,123,136,148,156] \n",
    "\n",
    "    "
   ]
  },
  {
   "cell_type": "markdown",
   "metadata": {},
   "source": [
    "### Write your code here:"
   ]
  },
  {
   "cell_type": "code",
   "execution_count": null,
   "metadata": {},
   "outputs": [],
   "source": []
  },
  {
   "cell_type": "markdown",
   "metadata": {},
   "source": [
    "## Question 5\n",
    "\n",
    "1. Write a while loop that calculates celsius to farenheit until you reach 38 celsius (hint: (32°F − 32) × 5/9 = 0°C)\n",
    "2. How long does it take to run the script you wrote? Use python to show this."
   ]
  },
  {
   "cell_type": "markdown",
   "metadata": {},
   "source": [
    "### Write your code here:"
   ]
  },
  {
   "cell_type": "code",
   "execution_count": null,
   "metadata": {},
   "outputs": [],
   "source": []
  },
  {
   "cell_type": "markdown",
   "metadata": {},
   "source": [
    "## Question 6\n",
    "\n",
    "Write a script that skips vowels from the following string: \"Python is for everyone!\""
   ]
  },
  {
   "cell_type": "markdown",
   "metadata": {},
   "source": [
    "### Write your code here:"
   ]
  },
  {
   "cell_type": "code",
   "execution_count": null,
   "metadata": {},
   "outputs": [],
   "source": []
  },
  {
   "cell_type": "markdown",
   "metadata": {},
   "source": [
    "## Question 7\n",
    "\n",
    "Write a script that prints out every month and then prints out the total number of days in that month. (ie prints all months first, then prints the total number of days afterwards). Use for loops to do this. \n"
   ]
  },
  {
   "cell_type": "markdown",
   "metadata": {},
   "source": [
    "### Write your code here:"
   ]
  },
  {
   "cell_type": "code",
   "execution_count": null,
   "metadata": {},
   "outputs": [],
   "source": []
  },
  {
   "cell_type": "markdown",
   "metadata": {},
   "source": [
    "## Question 8\n",
    "matrix_1 = np.matrix([[34,567,32,40],[95,20,32,55],[94,51,24,593],[35,526,97,393],[94,822,362,263]])\n",
    "\n",
    "1. Slice matrix_1 to show column 2 and rows 2 through 5\n",
    "2. Filter matrix_1 to show values that are between 54 through 90\n",
    "3. Transpose matrix_1"
   ]
  },
  {
   "cell_type": "markdown",
   "metadata": {},
   "source": [
    "### Write your code here:"
   ]
  },
  {
   "cell_type": "code",
   "execution_count": null,
   "metadata": {},
   "outputs": [],
   "source": []
  },
  {
   "cell_type": "markdown",
   "metadata": {},
   "source": [
    "## Question 9\n",
    "Using the following arrays:\n",
    "a = np.array([45,86,78,300,586,686,486,794,486,58,77,93,55,83,136])\n",
    "b = np.array([45,67,239,555,597,264,908,562,44,58,39,57,62,58,224])\n",
    "\n",
    "Write a python code using numpy that:\n",
    "    1. calculates the difference between the minimum and maximum number for each earray\n",
    "    2. calculates the 75th percentile for each array\n",
    "    3. calculates the mean and standard deviation for each array\n",
    "    4. calculates the correlation coefficient between the two arrays\n",
    "    \n",
    "Please document what those numbers are in your answer. \n",
    "\n",
    "Hint: the functions for these statistics can easily be found in the lecture slides and any reference guide to python"
   ]
  },
  {
   "cell_type": "markdown",
   "metadata": {},
   "source": [
    "### Write your code here:"
   ]
  },
  {
   "cell_type": "code",
   "execution_count": null,
   "metadata": {},
   "outputs": [],
   "source": []
  },
  {
   "cell_type": "markdown",
   "metadata": {},
   "source": [
    "## Question 10\n",
    "\n",
    "Write a program using numpy that randomly generates numbers in an array that has the shape(8,8)"
   ]
  },
  {
   "cell_type": "markdown",
   "metadata": {},
   "source": [
    "### Write your code here:"
   ]
  },
  {
   "cell_type": "code",
   "execution_count": null,
   "metadata": {},
   "outputs": [],
   "source": []
  }
 ],
 "metadata": {
  "kernelspec": {
   "display_name": "Python 3",
   "language": "python",
   "name": "python3"
  },
  "language_info": {
   "codemirror_mode": {
    "name": "ipython",
    "version": 3
   },
   "file_extension": ".py",
   "mimetype": "text/x-python",
   "name": "python",
   "nbconvert_exporter": "python",
   "pygments_lexer": "ipython3",
   "version": "3.8.5"
  }
 },
 "nbformat": 4,
 "nbformat_minor": 4
}
