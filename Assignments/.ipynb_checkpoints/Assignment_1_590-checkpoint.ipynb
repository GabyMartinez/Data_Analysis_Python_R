{
 "cells": [
  {
   "cell_type": "markdown",
   "metadata": {},
   "source": [
    "# Assignment 1\n",
    "\n",
    "You may work in groups, but you must submit your own work. If you worked with others, please be sure to include their names in your submitted work. \n",
    "\n",
    "Be sure to document your work (points will be deducted without documentation). Always import any packages that you use at the top of your assignment. Be sure to includes you name and email address in the jupyter notebook that you turn in.  \n",
    "\n",
    "Each question is worth 10 points.\n",
    "\n",
    "Use the power of the internet when you're stuck or need to find a function to execute it."
   ]
  },
  {
   "cell_type": "markdown",
   "metadata": {},
   "source": [
    "## Question 1\n",
    "Please tell me what the function `np.histogram()` does in your own words. What are the required arguments and optional arguments? In your answer, tell me how you looked up the function (include links to any websites or internal function in python that you used).\n"
   ]
  },
  {
   "cell_type": "markdown",
   "metadata": {},
   "source": [
    "### Write your code answer here:"
   ]
  },
  {
   "cell_type": "markdown",
   "metadata": {},
   "source": [
    "Returns two arrays: bins for the specified number of bins (default is 10) to sort numbers into, and frequency which shows the frequency of each bin.\n",
    " \n",
    " ex:   \n",
    "print (hist)  \n",
    "print (bins) \n",
    "\n",
    "`[3 4 5 2 1]\n",
    "[0 20 40 60 80 100]`\n",
    "\n",
    "The only required argument is the data. `np.histogram(a)` is perfectly valid. There are 5 optional arguments: bins, range, normed, weights, and density. \n",
    "\n",
    "Links used:   \n",
    "- https://www.geeksforgeeks.org/numpy-histogram-method-in-python/\n",
    "- https://www.tutorialspoint.com/numpy/numpy_histogram_using_matplotlib.htm\n",
    "- https://numpy.org/doc/stable/reference/generated/numpy.histogram.html"
   ]
  },
  {
   "cell_type": "markdown",
   "metadata": {},
   "source": [
    "## Question 2\n",
    "Identify all of the lists (and explain why):\n",
    "1. np.std()   \n",
    "    \n",
    "    - Outputs the standard deviation. This can be a single number or an array \"with standard deviation values along specified axis.\" ([geeksforgeeks.org](https://www.geeksforgeeks.org/numpy-std-in-python/)) Thus, it can be a list depending on the data inputed. On its own, `np.std()` is just a function, not a list.     \n",
    "   \n",
    "       \n",
    "2. print(['hello', 67, 85, '25'])   \n",
    " \n",
    "     - List: Function prints a list of strings and integers. The brackets make it a list.\n",
    " \n",
    "    \n",
    "3. ['fall','spring','summer','winter']  \n",
    "  \n",
    "      - List: it's just not assigned to anything. The brackets make it a list.\n",
    "         \n",
    "            \n",
    "4. {'a':1, 'b':2, 'c': 3, 'd':4, 'e':5, 'g':6}  \n",
    "  \n",
    "     - Dictionary: so a kind of list. The curly brackets and the asignments to keys to values make it a dictionary.\n",
    "\n",
    "   \n",
    "5. [[1,45],[56,89],[88,45]] \n",
    "  \n",
    "     - List: a list of lists. The brackets inside the list tells us there are three lists, each made of two values, in the larger list.\n",
    "\n",
    "   \n",
    "6. ('August','September', 'October','November','December') \n",
    "  \n",
    "     - Tuple: also a kind of list but immutable. \n",
    "\n",
    "   "
   ]
  },
  {
   "cell_type": "markdown",
   "metadata": {},
   "source": [
    "## Question 3\n",
    "Write a python script that prints numbers 30 through 100 by every 10 except 70."
   ]
  },
  {
   "cell_type": "markdown",
   "metadata": {},
   "source": [
    "### Write your code here:"
   ]
  },
  {
   "cell_type": "code",
   "execution_count": 88,
   "metadata": {},
   "outputs": [
    {
     "name": "stdout",
     "output_type": "stream",
     "text": [
      "30\n",
      "40\n",
      "50\n",
      "60\n",
      "80\n",
      "90\n",
      "100\n"
     ]
    }
   ],
   "source": [
    "for i in range(30,101): #30-100 inclusive\n",
    "    if i%10 == 0:\n",
    "        if i != 70:\n",
    "            print(i)"
   ]
  },
  {
   "cell_type": "markdown",
   "metadata": {},
   "source": [
    "## Question 4\n",
    "1. Write a python script that prints 'even' for every even number \n",
    "2. and creates a new list of even numbers in the series:\n",
    "[1,2,3,7,9,34,56,70,90,123,136,148,156] \n",
    "\n",
    "    "
   ]
  },
  {
   "cell_type": "markdown",
   "metadata": {},
   "source": [
    "### Write your code here:"
   ]
  },
  {
   "cell_type": "code",
   "execution_count": 89,
   "metadata": {},
   "outputs": [
    {
     "name": "stdout",
     "output_type": "stream",
     "text": [
      "even\n",
      "even\n",
      "even\n",
      "even\n",
      "even\n",
      "even\n",
      "even\n",
      "even\n"
     ]
    },
    {
     "data": {
      "text/plain": [
       "[2, 34, 56, 70, 90, 136, 148, 156]"
      ]
     },
     "execution_count": 89,
     "metadata": {},
     "output_type": "execute_result"
    }
   ],
   "source": [
    "a = [1,2,3,7,9,34,56,70,90,123,136,148,156]\n",
    "evens = []\n",
    "for i in a:\n",
    "    if i%2 == 0:\n",
    "        evens.append(i)\n",
    "        print('even')\n",
    "        \n",
    "evens"
   ]
  },
  {
   "cell_type": "markdown",
   "metadata": {},
   "source": [
    "## Question 5\n",
    "\n",
    "1. Write a while loop that calculates celsius to farenheit until you reach 38 celsius (hint: (32°F − 32) × 5/9 = 0°C)\n",
    "2. How long does it take to run the script you wrote? Use python to show this."
   ]
  },
  {
   "cell_type": "markdown",
   "metadata": {},
   "source": [
    "### Write your code here:"
   ]
  },
  {
   "cell_type": "code",
   "execution_count": 90,
   "metadata": {},
   "outputs": [
    {
     "name": "stdout",
     "output_type": "stream",
     "text": [
      "0 32.0\n",
      "1 33.8\n",
      "2 35.6\n",
      "3 37.4\n",
      "4 39.2\n",
      "5 41.0\n",
      "6 42.8\n",
      "7 44.6\n",
      "8 46.4\n",
      "9 48.2\n",
      "10 50.0\n",
      "11 51.8\n",
      "12 53.6\n",
      "13 55.400000000000006\n",
      "14 57.2\n",
      "15 59.0\n",
      "16 60.8\n",
      "17 62.6\n",
      "18 64.4\n",
      "19 66.2\n",
      "20 68.0\n",
      "21 69.80000000000001\n",
      "22 71.6\n",
      "23 73.4\n",
      "24 75.2\n",
      "25 77.0\n",
      "26 78.80000000000001\n",
      "27 80.6\n",
      "28 82.4\n",
      "29 84.2\n",
      "30 86.0\n",
      "31 87.80000000000001\n",
      "32 89.6\n",
      "33 91.4\n",
      "34 93.2\n",
      "35 95.0\n",
      "36 96.8\n",
      "37 98.60000000000001\n",
      "38 100.4\n",
      "0.014202356338500977\n"
     ]
    }
   ],
   "source": [
    "import time\n",
    "\n",
    "start = time.time()\n",
    "\n",
    "t=0\n",
    "while t != 39: #38 inclusive\n",
    "    f= (t*1.8) + 32\n",
    "    print(t, f)\n",
    "    t+=1\n",
    "\n",
    "end = time.time()\n",
    "\n",
    "total_time = end-start\n",
    "\n",
    "print(total_time)"
   ]
  },
  {
   "cell_type": "markdown",
   "metadata": {},
   "source": [
    "## Question 6\n",
    "\n",
    "Write a script that skips vowels from the following string: \"Python is for everyone!\""
   ]
  },
  {
   "cell_type": "markdown",
   "metadata": {},
   "source": [
    "### Write your code here:"
   ]
  },
  {
   "cell_type": "code",
   "execution_count": 91,
   "metadata": {},
   "outputs": [
    {
     "name": "stdout",
     "output_type": "stream",
     "text": [
      "Pythn s fr vryn!\n"
     ]
    }
   ],
   "source": [
    "a = \"Python is for everyone!\"\n",
    "a = list(a) #splits sentence into a list\n",
    "b=\"\"\n",
    "#print(a)\n",
    "\n",
    "vowels = ['a','e','i','o','u'] #list of vowels\n",
    "\n",
    "for i in a:\n",
    "    if i not in vowels:\n",
    "        b += i\n",
    "        \n",
    "print(b)"
   ]
  },
  {
   "cell_type": "markdown",
   "metadata": {},
   "source": [
    "## Question 7\n",
    "\n",
    "Write a script that prints out every month and then prints out the total number of days in that month. (ie prints all months first, then prints the total number of days afterwards). Use for loops to do this. \n"
   ]
  },
  {
   "cell_type": "markdown",
   "metadata": {},
   "source": [
    "### Write your code here:"
   ]
  },
  {
   "cell_type": "code",
   "execution_count": 92,
   "metadata": {},
   "outputs": [
    {
     "name": "stdout",
     "output_type": "stream",
     "text": [
      "Jan\n",
      "Feb\n",
      "Mar\n",
      "Apr\n",
      "May\n",
      "Jun\n",
      "Jul\n",
      "Aug\n",
      "Sep\n",
      "Oct\n",
      "Nov\n",
      "Dec\n",
      "31\n",
      "28\n",
      "31\n",
      "30\n",
      "31\n",
      "30\n",
      "31\n",
      "31\n",
      "30\n",
      "31\n",
      "30\n",
      "31\n"
     ]
    }
   ],
   "source": [
    "months = {'Jan':31, 'Feb':28, 'Mar':31, 'Apr': 30, \n",
    "          'May': 31, 'Jun':30, 'Jul':31, 'Aug':31, \n",
    "          'Sep':30, 'Oct':31, 'Nov':30, 'Dec':31}\n",
    "\n",
    "for i in months:\n",
    "    print(i)\n",
    "    \n",
    "for i in months:\n",
    "    print(months[i])"
   ]
  },
  {
   "cell_type": "markdown",
   "metadata": {},
   "source": [
    "## Question 8\n",
    "matrix_1 = np.matrix([[34,567,32,40],[95,20,32,55],[94,51,24,593],[35,526,97,393],[94,822,362,263]])\n",
    "\n",
    "1. Slice matrix_1 to show column 2 and rows 2 through 5\n",
    "2. Filter matrix_1 to show values that are between 54 through 90\n",
    "3. Transpose matrix_1"
   ]
  },
  {
   "cell_type": "markdown",
   "metadata": {},
   "source": [
    "### Write your code here:"
   ]
  },
  {
   "cell_type": "code",
   "execution_count": 93,
   "metadata": {},
   "outputs": [
    {
     "data": {
      "text/plain": [
       "matrix([[ 34, 567,  32,  40],\n",
       "        [ 95,  20,  32,  55],\n",
       "        [ 94,  51,  24, 593],\n",
       "        [ 35, 526,  97, 393],\n",
       "        [ 94, 822, 362, 263]])"
      ]
     },
     "execution_count": 93,
     "metadata": {},
     "output_type": "execute_result"
    }
   ],
   "source": [
    "import numpy as np\n",
    "matrix_1 = np.matrix([[34,567,32,40],[95,20,32,55],[94,51,24,593],[35,526,97,393],[94,822,362,263]])\n",
    "matrix_1"
   ]
  },
  {
   "cell_type": "code",
   "execution_count": 94,
   "metadata": {},
   "outputs": [
    {
     "data": {
      "text/plain": [
       "matrix([[ 20],\n",
       "        [ 51],\n",
       "        [526],\n",
       "        [822]])"
      ]
     },
     "execution_count": 94,
     "metadata": {},
     "output_type": "execute_result"
    }
   ],
   "source": [
    "#slice\n",
    "matrix_1[1:6,1] #rows 1-5, 6 exclusive, col 2 (0,1)\n"
   ]
  },
  {
   "cell_type": "code",
   "execution_count": 95,
   "metadata": {},
   "outputs": [
    {
     "data": {
      "text/plain": [
       "matrix([[55]])"
      ]
     },
     "execution_count": 95,
     "metadata": {},
     "output_type": "execute_result"
    }
   ],
   "source": [
    "#fliter\n",
    "matrix_1[(matrix_1>=54)&(matrix_1<=90)] #between 54-90 inclusive"
   ]
  },
  {
   "cell_type": "code",
   "execution_count": 96,
   "metadata": {},
   "outputs": [
    {
     "data": {
      "text/plain": [
       "matrix([[ 34,  95,  94,  35,  94],\n",
       "        [567,  20,  51, 526, 822],\n",
       "        [ 32,  32,  24,  97, 362],\n",
       "        [ 40,  55, 593, 393, 263]])"
      ]
     },
     "execution_count": 96,
     "metadata": {},
     "output_type": "execute_result"
    }
   ],
   "source": [
    "#transpose\n",
    "matrix_1.transpose()"
   ]
  },
  {
   "cell_type": "markdown",
   "metadata": {},
   "source": [
    "## Question 9\n",
    "Using the following arrays:\n",
    "a = np.array([45,86,78,300,586,686,486,794,486,58,77,93,55,83,136])\n",
    "b = np.array([45,67,239,555,597,264,908,562,44,58,39,57,62,58,224])\n",
    "\n",
    "Write a python code using numpy that:\n",
    "    1. calculates the difference between the minimum and maximum number for each earray\n",
    "    2. calculates the 75th percentile for each array\n",
    "    3. calculates the mean and standard deviation for each array\n",
    "    4. calculates the correlation coefficient between the two arrays\n",
    "    \n",
    "Please document what those numbers are in your answer. \n",
    "\n",
    "Hint: the functions for these statistics can easily be found in the lecture slides and any reference guide to python"
   ]
  },
  {
   "cell_type": "markdown",
   "metadata": {},
   "source": [
    "### Write your code here:"
   ]
  },
  {
   "cell_type": "code",
   "execution_count": 97,
   "metadata": {},
   "outputs": [
    {
     "name": "stdout",
     "output_type": "stream",
     "text": [
      "difference b/w max and min for a = 749\n",
      "difference b/w max and min for b = 869\n",
      "\n",
      "75th percentile for a: 486.0\n",
      "75th percentile for a: 409.5\n",
      "\n",
      "mean for a: 269.93333333333334\n",
      "standard deviation for a: 255.04469325111543\n",
      "\n",
      "mean for b: 251.93333333333334\n",
      "standard deviation for b: 265.0120668112219\n",
      "\n",
      "[[1.         0.65399586]\n",
      " [0.65399586 1.        ]]\n"
     ]
    }
   ],
   "source": [
    "a = np.array([45,86,78,300,586,686,486,794,486,58,77,93,55,83,136]) \n",
    "b = np.array([45,67,239,555,597,264,908,562,44,58,39,57,62,58,224])\n",
    "\n",
    "#1. calculate difference b/w min and max\n",
    "\n",
    "print(\"difference b/w max and min for a =\", a.max()-a.min())\n",
    "print(\"difference b/w max and min for b =\", b.max()-b.min())\n",
    "print()\n",
    "\n",
    "#2. calc 75th percentile for a and b\n",
    "\n",
    "print(\"75th percentile for a:\", np.percentile(a,75))\n",
    "print(\"75th percentile for a:\", np.percentile(b,75))\n",
    "print()\n",
    "\n",
    "#3. calc mean and sd for a and b\n",
    "\n",
    "print(\"mean for a:\", a.mean())\n",
    "print(\"standard deviation for a:\", a.std())\n",
    "print()\n",
    "print(\"mean for b:\", b.mean())\n",
    "print(\"standard deviation for b:\", b.std())\n",
    "print()\n",
    "\n",
    "#4. calc correlation coefficient b/w a and b\n",
    "\n",
    "print(np.corrcoef(a,b)) #https://www.codespeedy.com/numpy-correlation-in-python/\n"
   ]
  },
  {
   "cell_type": "markdown",
   "metadata": {},
   "source": [
    "## Question 10\n",
    "\n",
    "Write a program using numpy that randomly generates numbers in an array that has the shape(8,8)"
   ]
  },
  {
   "cell_type": "markdown",
   "metadata": {},
   "source": [
    "### Write your code here:"
   ]
  },
  {
   "cell_type": "code",
   "execution_count": 98,
   "metadata": {},
   "outputs": [
    {
     "name": "stdout",
     "output_type": "stream",
     "text": [
      "[[0.77087599 0.01513977 0.37624079 0.71885697 0.9714675  0.53527255\n",
      "  0.98782659 0.86922852]\n",
      " [0.83366916 0.2021955  0.53908284 0.11676413 0.35700138 0.04652194\n",
      "  0.91255606 0.3553653 ]\n",
      " [0.32772495 0.36192257 0.32867509 0.18067672 0.9990999  0.76901732\n",
      "  0.49387777 0.78086236]\n",
      " [0.22145135 0.87174106 0.12648074 0.69214864 0.29897373 0.7349211\n",
      "  0.10601148 0.26992644]\n",
      " [0.72989236 0.39689475 0.79751307 0.14415985 0.18186282 0.94972312\n",
      "  0.8804473  0.70990759]\n",
      " [0.18742093 0.07847051 0.05352761 0.33360346 0.69350502 0.76176925\n",
      "  0.29858738 0.07253088]\n",
      " [0.26026205 0.33734418 0.42505662 0.20718513 0.64343684 0.83070456\n",
      "  0.44073999 0.06389835]\n",
      " [0.21659118 0.62931482 0.29080753 0.13372481 0.52940416 0.56131624\n",
      "  0.04436247 0.97007765]]\n"
     ]
    }
   ],
   "source": [
    "print(np.random.rand(8,8)) #(row,col)"
   ]
  }
 ],
 "metadata": {
  "kernelspec": {
   "display_name": "Python 3",
   "language": "python",
   "name": "python3"
  },
  "language_info": {
   "codemirror_mode": {
    "name": "ipython",
    "version": 3
   },
   "file_extension": ".py",
   "mimetype": "text/x-python",
   "name": "python",
   "nbconvert_exporter": "python",
   "pygments_lexer": "ipython3",
   "version": "3.8.5"
  }
 },
 "nbformat": 4,
 "nbformat_minor": 4
}
