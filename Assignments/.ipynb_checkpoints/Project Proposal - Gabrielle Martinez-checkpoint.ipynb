{
 "cells": [
  {
   "cell_type": "markdown",
   "metadata": {},
   "source": [
    "Gabrielle Martinez   \n",
    "Professor Kaltenberg   \n",
    "ECO590 Data Analysis with Python and R   \n",
    "30 September 2020   \n",
    "\n",
    "## Assignment 2: Project Proposal\n",
    "\n",
    "### Research Question\n",
    "\n",
    "For this project, I want to gather and analyze data that will help me in my capstone project that I am currently taking alongside this course. The purpose of my capstone project is to study the effects of regulation on green innovation using the 1973 oil crisis and the subsiquent \n",
    "\n"
   ]
  }
 ],
 "metadata": {
  "kernelspec": {
   "display_name": "Python 3",
   "language": "python",
   "name": "python3"
  },
  "language_info": {
   "codemirror_mode": {
    "name": "ipython",
    "version": 3
   },
   "file_extension": ".py",
   "mimetype": "text/x-python",
   "name": "python",
   "nbconvert_exporter": "python",
   "pygments_lexer": "ipython3",
   "version": "3.8.5"
  }
 },
 "nbformat": 4,
 "nbformat_minor": 4
}
