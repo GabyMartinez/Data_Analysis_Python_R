{
 "cells": [
  {
   "cell_type": "markdown",
   "metadata": {},
   "source": [
    "# Assignment 1 - Example of Good Documentation\n",
    "\n",
    "You may work in groups, but you must submit your own work. If you worked with others, please be sure to include their names in your submitted work. \n",
    "\n",
    "Be sure to document your work (points will be deducted without documentation). Always import any packages that you use at the top of your assignment. Be sure to includes you name and email address in the jupyter notebook that you turn in.  \n",
    "\n",
    "Each question is worth 10 points.\n",
    "\n",
    "Use the power of the internet when you're stuck or need to find a function to execute it."
   ]
  },
  {
   "cell_type": "markdown",
   "metadata": {},
   "source": [
    "Name & Email have been removed"
   ]
  },
  {
   "cell_type": "code",
   "execution_count": 1,
   "metadata": {},
   "outputs": [],
   "source": [
    "import numpy as np"
   ]
  },
  {
   "cell_type": "code",
   "execution_count": 2,
   "metadata": {},
   "outputs": [],
   "source": [
    "#this line of code says import the package numpy (which is stored in your library on your computer) and name it np"
   ]
  },
  {
   "cell_type": "markdown",
   "metadata": {},
   "source": [
    "## Question 1\n",
    "Please tell me what the function `np.histogram()` does in your own words. What are the required arguments and optional arguments? In your answer, tell me how you looked up the function (include links to any websites or internal function in python that you used).\n"
   ]
  },
  {
   "cell_type": "markdown",
   "metadata": {},
   "source": [
    "### Answer:"
   ]
  },
  {
   "cell_type": "markdown",
   "metadata": {},
   "source": [
    "The function np.histogram() creates a histogram for a dataset. The only required argument is a (a : array_like). Bins, range, normed, weights, density are optional arguments. To look it up I used python code: np.histogram?\n",
    "\n",
    "<< MK comments: computes the frequency from an array"
   ]
  },
  {
   "cell_type": "code",
   "execution_count": 45,
   "metadata": {},
   "outputs": [],
   "source": [
    "np.histogram?\n",
    "# Jupyter notebook has a built in feature that helps with any code. If you add a question mark at the end of the comamnd documentation specific to that command will pop up at the bottom"
   ]
  },
  {
   "cell_type": "markdown",
   "metadata": {},
   "source": [
    "## Question 2\n",
    "Identify all of the lists (and explain why):\n",
    "1. np.std()\n",
    "2. print(['hello', 67, 85, '25'])\n",
    "3. ['fall','spring','summer','winter']\n",
    "4. {'a':1, 'b':2, 'c': 3, 'd':4, 'e':5, 'g':6}\n",
    "5. [[1,45],[56,89],[88,45]]\n",
    "6. ('August','September', 'October','November','December')"
   ]
  },
  {
   "cell_type": "markdown",
   "metadata": {},
   "source": [
    "### Answer:"
   ]
  },
  {
   "cell_type": "markdown",
   "metadata": {},
   "source": [
    "1. np.std() - No, this is not a list. It's a function for computing a standard deviation."
   ]
  },
  {
   "cell_type": "markdown",
   "metadata": {},
   "source": [
    "2. print(['hello', 67, 85, '25']) - Yes, this is a list. To be more specific, it's a code asking to print a list that includes four elements. We know it's a list because it has hard brackets and elements are separated using commas. "
   ]
  },
  {
   "cell_type": "markdown",
   "metadata": {},
   "source": [
    "3. ['fall','spring','summer','winter'] - Yes, this is a list; it's defined by hard brackets and within them it includes four elements (strings) separated by commas."
   ]
  },
  {
   "cell_type": "markdown",
   "metadata": {},
   "source": [
    "4. {'a':1, 'b':2, 'c': 3, 'd':4, 'e':5, 'g':6} - Yes, this is a list, more specifically a dictionary, which is a list but more general. Dictionaries are defined when you use curly brackets. The key is listed first and you match it with a value with a colon and separate pairs with a comma."
   ]
  },
  {
   "cell_type": "markdown",
   "metadata": {},
   "source": [
    "5. [[1,45],[56,89],[88,45]] - Yes, this is a list. It's defined by hard bracktes and includes elements that are separated by commas. "
   ]
  },
  {
   "cell_type": "markdown",
   "metadata": {},
   "source": [
    "6. ('August','September', 'October','November','December') - No, this is not a list. It doesn't have hard brackets. This is a string."
   ]
  },
  {
   "cell_type": "code",
   "execution_count": null,
   "metadata": {},
   "outputs": [],
   "source": [
    "<< MK comments: 2,3,5 are lists.\n",
    "I'll give you 4 because it is a dictionary which is a kind of list and you note that it is a dictionary\n",
    "6. is a tuple because of the paranthesis"
   ]
  },
  {
   "cell_type": "markdown",
   "metadata": {},
   "source": [
    "## Question 3\n",
    "Write a python script that prints numbers 30 through 100 by every 10 except 70."
   ]
  },
  {
   "cell_type": "markdown",
   "metadata": {},
   "source": [
    "### Answer:"
   ]
  },
  {
   "cell_type": "code",
   "execution_count": 18,
   "metadata": {},
   "outputs": [
    {
     "name": "stdout",
     "output_type": "stream",
     "text": [
      "30 40 50 60 80 90 100 "
     ]
    }
   ],
   "source": [
    "for x in range(30,110,10): # For every number that is in the range between 30 and 100 going up by 10\n",
    "    if (x == 70): # if x is equal to 70 - skip it (I don't say to skip it in this line, but that's what I essentially mean)\n",
    "        continue # returns the control to the beginning of the for loop\n",
    "    print(x,end=' ') # print every number in my range but skip 70 "
   ]
  },
  {
   "cell_type": "markdown",
   "metadata": {},
   "source": [
    "#### Sources Used:"
   ]
  },
  {
   "cell_type": "markdown",
   "metadata": {},
   "source": [
    "https://www.w3resource.com/python-exercises/python-conditional-exercise-8.php"
   ]
  },
  {
   "cell_type": "markdown",
   "metadata": {},
   "source": [
    "https://www.programiz.com/python-programming/break-continue"
   ]
  },
  {
   "cell_type": "markdown",
   "metadata": {},
   "source": [
    "https://www.tutorialspoint.com/python3/python3_whatisnew.htm "
   ]
  },
  {
   "cell_type": "markdown",
   "metadata": {},
   "source": [
    "## Question 4\n",
    "1. Write a python script that prints 'even' for every even number \n",
    "2. and creates a new list of even numbers \n",
    "\n",
    "in the series: [1,2,3,7,9,34,56,70,90,123,136,148,156] \n",
    "\n",
    "    "
   ]
  },
  {
   "cell_type": "markdown",
   "metadata": {},
   "source": [
    "### Answer:"
   ]
  },
  {
   "cell_type": "code",
   "execution_count": 19,
   "metadata": {},
   "outputs": [
    {
     "name": "stdout",
     "output_type": "stream",
     "text": [
      "2 even\n",
      "34 even\n",
      "56 even\n",
      "70 even\n",
      "90 even\n",
      "136 even\n",
      "148 even\n",
      "156 even\n",
      "[2, 34, 56, 70, 90, 136, 148, 156]\n"
     ]
    }
   ],
   "source": [
    "numbers = [1,2,3,7,9,34,56,70,90,123,136,148,156] # create a list numbers that includes the elements specified in the instructions\n",
    "evennumbers = [] # create new list that's empty but it's going to include even numbers only (as the loop proceeds it will add an item to that list)\n",
    "for i in numbers: # for every element in list numbers\n",
    "    if i % 2 == 0: # check to see if i is even (that the remainder of i divided by 2 is equal to 0)\n",
    "        print (i, \"even\") # print i if it is an even number, and pint 'even' next to it\n",
    "        evennumbers.append(i) # add the variable i if it's an even number to the new list evennumbers\n",
    "print(evennumbers) # print the list evennumbers"
   ]
  },
  {
   "cell_type": "markdown",
   "metadata": {},
   "source": [
    "## Question 5\n",
    "\n",
    "1. Write a while loop that calculates celsius to farenheit until you reach 38 celsius (hint: (32°F − 32) × 5/9 = 0°C)\n",
    "2. How long does it take to run the script you wrote? Use python to show this."
   ]
  },
  {
   "cell_type": "markdown",
   "metadata": {},
   "source": [
    "### Answer:"
   ]
  },
  {
   "cell_type": "code",
   "execution_count": 36,
   "metadata": {},
   "outputs": [
    {
     "name": "stdout",
     "output_type": "stream",
     "text": [
      "32.0\n",
      "33.8\n",
      "35.6\n",
      "37.4\n",
      "39.2\n",
      "41.0\n",
      "42.8\n",
      "44.6\n",
      "46.4\n",
      "48.2\n",
      "50.0\n",
      "51.8\n",
      "53.6\n",
      "55.4\n",
      "57.2\n",
      "59.0\n",
      "60.8\n",
      "62.6\n",
      "64.4\n",
      "66.2\n",
      "68.0\n",
      "69.8\n",
      "71.6\n",
      "73.4\n",
      "75.2\n",
      "77.0\n",
      "78.8\n",
      "80.6\n",
      "82.4\n",
      "84.2\n",
      "86.0\n",
      "87.8\n",
      "89.6\n",
      "91.4\n",
      "93.2\n",
      "95.0\n",
      "96.8\n",
      "98.6\n",
      "100.4\n",
      "total time: 0.0677483081817627\n"
     ]
    }
   ],
   "source": [
    "import time # import function called time\n",
    "start = time.time() # start tracking time since last epoch (start timing how long it's taking to run the following script) \n",
    "\n",
    "c = 0 # initialize variable c at 0\n",
    "while c >= 0: # while c is equal to or greater than 0\n",
    "    f = (c*9)/5+32 # assign the following formula for python to use while calculating variable f\n",
    "    print(f) # print results for f\n",
    "    if c == 38: # evaluate if c is equal to 38\n",
    "        break # stop running the loop when the above condition is met  \n",
    "    c += 1 # this is a simpler way of saying c = c+1\n",
    "    \n",
    "end = time.time() # stop measuring the time elapsed since we initiaded time tracking\n",
    "total_time = end-start # calculate total time elapsed (essentialy how long does it take to run the script I wrote) by substracting start time from the end time\n",
    "print('total time:', total_time) # print 'total time' and the value that was calculated for it in the step above"
   ]
  },
  {
   "cell_type": "markdown",
   "metadata": {},
   "source": [
    "## Question 6\n",
    "\n",
    "Write a script that skips vowels from the following string: \"Python is for everyone!\""
   ]
  },
  {
   "cell_type": "markdown",
   "metadata": {},
   "source": [
    "### Answer:"
   ]
  },
  {
   "cell_type": "code",
   "execution_count": 2,
   "metadata": {},
   "outputs": [
    {
     "name": "stdout",
     "output_type": "stream",
     "text": [
      "Pthn s fr vrn!\n"
     ]
    }
   ],
   "source": [
    "string = \"Python is for everyone!\" # assignt string \"Python is for everyone!\" \n",
    "\n",
    "def rem_vowel(string): # define a function that will remove vowels from the above string\n",
    "    vowels = ('a', 'e', 'i', 'o', 'u', 'y') # assign vowels that are to be removed to string vowels\n",
    "    for x in string : # for every x (letter) in string \"Python is for everyone!\" \n",
    "        if x in vowels: # check if that x (letter) is included in string vowels\n",
    "            string = string.replace(x, \"\") # if it is, then repace it with a blank space instead of showing it (skip it) \n",
    "    print(string) # print the string with removed vowels \n",
    "rem_vowel(string)     "
   ]
  },
  {
   "cell_type": "markdown",
   "metadata": {},
   "source": [
    "#### Sources Used:"
   ]
  },
  {
   "cell_type": "markdown",
   "metadata": {},
   "source": [
    "https://www.geeksforgeeks.org/python-program-to-accept-the-strings-which-contains-all-vowels/"
   ]
  },
  {
   "cell_type": "markdown",
   "metadata": {},
   "source": [
    "https://stackoverflow.com/questions/14915222/define-a-function-isvowelchar-that-returns-true-if-char-is-a-vowel-a-e"
   ]
  },
  {
   "cell_type": "markdown",
   "metadata": {},
   "source": [
    "https://www.xspdf.com/resolution/50339990.html"
   ]
  },
  {
   "cell_type": "markdown",
   "metadata": {},
   "source": [
    "## Question 7\n",
    "\n",
    "Write a script that prints out every month and then prints out the total number of days in that month. (ie prints all months first, then prints the total number of days afterwards). Use for loops to do this. \n"
   ]
  },
  {
   "cell_type": "markdown",
   "metadata": {},
   "source": [
    "I wasn't sure if you meant to print all months first followed by numbers of days in a month all in one long column, or month followed by a number of days in that month in one row, and then move to the next month in a separate row, and so on (if that makes sense). I decided to include both scripts just in case.  "
   ]
  },
  {
   "cell_type": "markdown",
   "metadata": {},
   "source": [
    "### Answer a:"
   ]
  },
  {
   "cell_type": "code",
   "execution_count": 64,
   "metadata": {},
   "outputs": [
    {
     "name": "stdout",
     "output_type": "stream",
     "text": [
      "January\n",
      "February\n",
      "March\n",
      "April\n",
      "May\n",
      "June\n",
      "July\n",
      "August\n",
      "September\n",
      "October\n",
      "November\n",
      "December\n",
      "31 days\n",
      "28 or 29 days\n",
      "31 days\n",
      "30 days\n",
      "31 days\n",
      "30 days\n",
      "31 days\n",
      "31 days\n",
      "30 days\n",
      "31 days\n",
      "30 days\n",
      "31 days\n"
     ]
    }
   ],
   "source": [
    "months_days = {'January' : '31 days', \n",
    "               'February' : '28 or 29 days',\n",
    "               'March' : '31 days',\n",
    "               'April' : '30 days', \n",
    "               'May' : '31 days', \n",
    "               'June' : '30 days', \n",
    "               'July' : '31 days', \n",
    "               'August' : '31 days', \n",
    "               'September' : '30 days', \n",
    "               'October' : '31 days', \n",
    "               'November' : '30 days', \n",
    "               'December' : '31 days'}\n",
    "# create a dictionary that icludes months and assigns a total number of days to a specific month\n",
    "for i in months_days: # for every element in dictionar called months_days \n",
    "    print(i) # print that element (month)\n",
    "for i in months_days: # for every element in dictionar called months_days \n",
    "    print(months_days[i]) # print the elemt assigned to it (total number of days)"
   ]
  },
  {
   "cell_type": "markdown",
   "metadata": {},
   "source": [
    "### Answer b:"
   ]
  },
  {
   "cell_type": "code",
   "execution_count": 59,
   "metadata": {},
   "outputs": [
    {
     "name": "stdout",
     "output_type": "stream",
     "text": [
      "January 31 days\n",
      "February 28 or 29 days\n",
      "March 31 days\n",
      "April 30 days\n",
      "May 31 days\n",
      "June 30 days\n",
      "July 31 days\n",
      "August 31 days\n",
      "September 30 days\n",
      "October 31 days\n",
      "November 30 days\n",
      "December 31 days\n"
     ]
    }
   ],
   "source": [
    "months = ['January', 'February', 'March', 'April', 'May', 'June', 'July', 'August', 'September', 'October', 'November', 'December']\n",
    "# create a list called months that includes 12 month of the year\n",
    "a = ['January', 'March', 'May', 'July', 'August', 'October', 'December']\n",
    "# create list called a including months that count 31 days\n",
    "b = ['April', 'June', 'September', 'November']\n",
    "# create list called b including months that count 30 days\n",
    "for i in  months: # for every element in list months\n",
    "    if i in a: # evaluate if that element is included in list a\n",
    "        print(i, '31 days') # it that's true, print that element and statement '31 days' next to it \n",
    "    elif i in b: # then if that element isn't included in list a, evalute if it's included in list b\n",
    "        print (i, '30 days') # if that's true, print that element and a statement '30 days' next to it\n",
    "    else: # if for the element previous conditions weren't meet (elements aren't included in neither list a nor b) \n",
    "        print(i, '28 or 29 days') # then print that element and statement '28 or 29 days' next to it        \n",
    "        \n",
    "<< MK comments: +2 for doing months with days    "
   ]
  },
  {
   "cell_type": "markdown",
   "metadata": {},
   "source": [
    "## Question 8\n",
    "list1 = [34,567,32,40,353,624,325,3473,457,236,4,67,846]\n",
    "\n",
    "1. Slice list1 to show items 3 through 5\n",
    "2. Slice list1 to show item 8"
   ]
  },
  {
   "cell_type": "markdown",
   "metadata": {},
   "source": [
    "### Answer:"
   ]
  },
  {
   "cell_type": "code",
   "execution_count": 34,
   "metadata": {},
   "outputs": [
    {
     "name": "stdout",
     "output_type": "stream",
     "text": [
      "[32, 40, 353]\n",
      "3473\n"
     ]
    }
   ],
   "source": [
    "list1 = [34,567,32,40,353,624,325,3473,457,236,4,67,846] # create a list called list1 that includes the elements specified in the instructions\n",
    "list2 = list1[2:5] # create a list called list2 that includes element 3 through 5 from list1 \n",
    "print(list2) # print list2\n",
    "list3 = list1[7] # create a list called list3 that includes only elemt 8 from list1\n",
    "print(list3) # print list3"
   ]
  },
  {
   "cell_type": "markdown",
   "metadata": {},
   "source": [
    "## Question 9\n",
    "\n",
    "training = ['wax on', 'wax off', 'paint the fence up', 'paint the fence down']\n",
    "\n",
    "moves = ['block left','block right', 'block up', 'block down']\n",
    "\n",
    "Write a script that when the item 'paint the fence up' is evaluated it prints the item 'block up'. Include the second list moves in your scripy.\n",
    "\n",
    "Bonus points if you can use slicing in your answer.\n"
   ]
  },
  {
   "cell_type": "markdown",
   "metadata": {},
   "source": [
    "### Answer:"
   ]
  },
  {
   "cell_type": "code",
   "execution_count": 35,
   "metadata": {},
   "outputs": [
    {
     "name": "stdout",
     "output_type": "stream",
     "text": [
      "block up\n"
     ]
    }
   ],
   "source": [
    "training = ['wax on', 'wax off', 'paint the fence up', 'paint the fence down']\n",
    "# create a list called training including elemnts specified in the instructions \n",
    "moves = ['block left','block right', 'block up', 'block down']   \n",
    "# create a list called moves including elemnts specified in the instructions \n",
    "for i in training: # for every element in list training\n",
    "    if i == training[2]: # evaluate if the element is the 3rd item in the list training \n",
    "        print(moves[2]) # if that's true, then print the element that's the 3rd item in the list moves \n",
    "\n",
    "<< MK comments: +3 for slicing"
   ]
  },
  {
   "cell_type": "markdown",
   "metadata": {},
   "source": [
    "## Question 10\n",
    "\n",
    "Write a script that randomly generates numbers in a list that contains 15 elements."
   ]
  },
  {
   "cell_type": "markdown",
   "metadata": {},
   "source": [
    "### Answer:"
   ]
  },
  {
   "cell_type": "code",
   "execution_count": 40,
   "metadata": {},
   "outputs": [
    {
     "name": "stdout",
     "output_type": "stream",
     "text": [
      "randomly generated numbers :  [738, 931, 292, 736, 592, 474, 639, 292, 811, 867, 522, 870, 622, 179, 335]\n"
     ]
    }
   ],
   "source": [
    "import random # import the function called random \n",
    "random_list = [random.randrange(1, 1000, 1) for i in range(15)]\n",
    "# create a list called random_list that in which random 15 element are generated from a ragne between 1 and 1000 going up by 1\n",
    "print (\"randomly generated numbers : \" , random_list) \n",
    "# print the statement \"randomly generated numbers :\" and the random_list generated in the line above"
   ]
  },
  {
   "cell_type": "markdown",
   "metadata": {},
   "source": [
    "#### Sources Used:"
   ]
  },
  {
   "cell_type": "markdown",
   "metadata": {},
   "source": [
    "https://pynative.com/python-random-randrange/"
   ]
  },
  {
   "cell_type": "markdown",
   "metadata": {},
   "source": [
    "https://www.geeksforgeeks.org/generating-random-number-list-in-python/"
   ]
  }
 ],
 "metadata": {
  "kernelspec": {
   "display_name": "Python 3",
   "language": "python",
   "name": "python3"
  },
  "language_info": {
   "codemirror_mode": {
    "name": "ipython",
    "version": 3
   },
   "file_extension": ".py",
   "mimetype": "text/x-python",
   "name": "python",
   "nbconvert_exporter": "python",
   "pygments_lexer": "ipython3",
   "version": "3.8.3"
  }
 },
 "nbformat": 4,
 "nbformat_minor": 4
}
