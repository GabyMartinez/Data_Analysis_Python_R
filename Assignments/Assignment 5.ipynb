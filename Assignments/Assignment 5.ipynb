{
 "cells": [
  {
   "cell_type": "markdown",
   "metadata": {},
   "source": [
    "# Assignment 5\n",
    "\n",
    "1. Submit either a jupyter notebook or R notebook with your code.\n",
    "2. Make the title of the notebook \"your name Assignment 5\".\n",
    "3. Import your data into R. If you clean your data in python, you can import the csv. If you do some additional cleaning in R, be sure to show that in your R code that you hand in.\n",
    "4. Run a regression with OLS. This can include only a couple variables of interest.  (25 pts)\n",
    "5. Run a regression with a filtered dataset (filter based on a category of your choosing within your dataset). (25 pts)\n",
    "6. Run your preferred regression using your dataset (different from regression 3 if at all possible). (25 pts)\n",
    "7. Write a few sentences about your preferred regression. Interpret the coefficients that are most important to you and discuss the statistical significance. (25 pts)\n",
    "\n"
   ]
  }
 ],
 "metadata": {
  "kernelspec": {
   "display_name": "R",
   "language": "R",
   "name": "ir"
  },
  "language_info": {
   "codemirror_mode": "r",
   "file_extension": ".r",
   "mimetype": "text/x-r-source",
   "name": "R",
   "pygments_lexer": "r",
   "version": "3.6.1"
  }
 },
 "nbformat": 4,
 "nbformat_minor": 4
}
