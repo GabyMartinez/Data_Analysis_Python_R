{
 "cells": [
  {
   "cell_type": "markdown",
   "metadata": {},
   "source": [
    "## Python API Bloopers\n",
    "\n",
    "So my first shot at the Python API was kind of a mess. I'm copying that mess over here so that I have a record of it but I want to clean up my hw document."
   ]
  },
  {
   "cell_type": "code",
   "execution_count": 9,
   "metadata": {},
   "outputs": [],
   "source": [
    "import ratelim\n",
    "import tenacity\n",
    "import requests\n",
    "import pprint #pretty printing for json\n",
    "\n",
    "import pandas as pd"
   ]
  },
  {
   "cell_type": "code",
   "execution_count": 1,
   "metadata": {},
   "outputs": [
    {
     "name": "stdout",
     "output_type": "stream",
     "text": [
      "https://api.patentsview.org/assignees/query?q={\"uspc_mainclass_id\":\"123\"}&f=[\"assignee_organization\",\"year_id\",\"year_num_patents_for_assignee\",\"uspc_mainclass_id\"]&o={\"matched_subentities_only\":\"true\"}\n",
      "\n",
      "\n"
     ]
    }
   ],
   "source": [
    "#Query url one class id at a time? \n",
    "#5319 obs\n",
    "\n",
    "url = ('https://api.patentsview.org/assignees/query?' #static part\n",
    "        'q={\"uspc_mainclass_id\":\"123\"}'          #uspc class id/code\n",
    "        '&f=[\"assignee_organization\",\"year_id\",\"year_num_patents_for_assignee\",\"uspc_mainclass_id\"]'#what fields to output\n",
    "        '&o={\"matched_subentities_only\":\"true\"}') # Only subentity data that matches the subentity specific criteria is included in results.\n",
    "\n",
    "print(url) #<- first trial: url works just doesn't have everything I need\n",
    "print('\\n')"
   ]
  },
  {
   "cell_type": "code",
   "execution_count": 2,
   "metadata": {},
   "outputs": [
    {
     "name": "stdout",
     "output_type": "stream",
     "text": [
      "https://api.patentsview.org/assignees/query?q={\"_and\":[{\"uspc_subclass_id\":[\"60/272\",\"60/516\",\"60/698\",\"73/112\",\"73/115\",\"73/\"]},{\"_lte\":{\"year_id\":\"1987\"}}]}&f=[\"assignee_organization\",\"year_id\",\"uspc_subclass_id\",\"year_num_patents_for_assignee\"]&o={\"matched_subentities_only\":\"true\",\"per_page\":5340}\n",
      "\n",
      "\n"
     ]
    }
   ],
   "source": [
    "url = ('https://api.patentsview.org/assignees/query?' #static part\n",
    "      \n",
    "        'q={'\n",
    "           '\"_and\":['\n",
    "               '{\"uspc_subclass_id\":[\"60/272\",\"60/516\",\"60/698\",\"73/112\",\"73/115\",\"73/\"]},' #uspc subclass id/codes {\"uspc_subclass_id\":\"60/39.01\"}'\n",
    "               '{\"_lte\":{\"year_id\":\"1987\"}}' #year of patent <= 1987\n",
    "           ']}'\n",
    "                  \n",
    "        '&f=[\"assignee_organization\",\"year_id\",\"uspc_subclass_id\",\"year_num_patents_for_assignee\"]'#what fields to output\n",
    "        '&o={\"matched_subentities_only\":\"true\",\"per_page\":5340}') # Only subentity data that matches the subentity specific criteria is included\n",
    "\n",
    "print(url) #outputs 54 assignees, only three subclasses tho. Need to add the rest of the classes\n",
    "print('\\n')"
   ]
  },
  {
   "cell_type": "code",
   "execution_count": 3,
   "metadata": {},
   "outputs": [
    {
     "name": "stdout",
     "output_type": "stream",
     "text": [
      "https://api.patentsview.org/assignees/query?q={\"_and\":[{\"uspc_subclass_id\":[\"60/272\",\"60/516\",\"60/698\",\"73/112\",\"73/115\",\"73/113\",\"73/114\",\"701/101\",\"701/103\",\"701/104\",\"701/105\",\"701/106\",\"701/107\",\"701/108\",\"701/109\",\"701/110\",\"701/113\",\"701/123\",\"701/29\"]},{\"_lte\":{\"patent_date\":\"1987-12-31\"}}]}&f=[\"assignee_organization\",\"year_id\",\"uspc_subclass_id\",\"year_num_patents_for_assignee\",\"uspc_num_patents_for_assignee\"]&o={\"matched_subentities_only\":\"true\",\"per_page\":50}\n",
      "\n",
      "\n"
     ]
    }
   ],
   "source": [
    "url = ('https://api.patentsview.org/assignees/query?' #static part\n",
    "      \n",
    "        'q={'\n",
    "           '\"_and\":['\n",
    "               '{\"uspc_subclass_id\":[\"60/272\",\"60/516\",\"60/698\",\"73/112\",\"73/115\",\"73/113\",\"73/114\",\"701/101\",\"701/103\"'\n",
    "                   ',\"701/104\",\"701/105\",\"701/106\",\"701/107\",\"701/108\",\"701/109\",\"701/110\",\"701/113\",\"701/123\",\"701/29\"]}' #uspc subclass id/codes {\"uspc_subclass_id\":\"60/39.01\"}'\n",
    "               ',{\"_lte\":{\"patent_date\":\"1987-12-31\"}}' #year of patent <= 1987\n",
    "           ']}'\n",
    "                  \n",
    "        '&f=[\"assignee_organization\",\"year_id\",\"uspc_subclass_id\",\"year_num_patents_for_assignee\",\"uspc_num_patents_for_assignee\"]'#what fields to output\n",
    "        '&o={\"matched_subentities_only\":\"true\",\"per_page\":50}') # Only subentity data that matches the subentity specific criteria is included\n",
    "\n",
    "print(url) #\n",
    "print('\\n')"
   ]
  },
  {
   "cell_type": "code",
   "execution_count": 4,
   "metadata": {},
   "outputs": [
    {
     "name": "stdout",
     "output_type": "stream",
     "text": [
      "https://api.patentsview.org/assignees/query?q={\"_or\":[{\"_and\":[{\"uspc_subclass_id\":[\"60/272\",\"60/516\",\"60/698\"]},{\"_lte\":{\"year_id\":\"1987\"}}]},{\"uspc_mainclass_id\":\"123\"}]}&f=[\"assignee_organization\",\"year_id\",\"uspc_subclass_id\",\"year_num_patents_for_assignee\"]&o={\"matched_subentities_only\":\"true\",\"per_page\":5340}\n",
      "\n",
      "\n"
     ]
    }
   ],
   "source": [
    "#Use \"_or\" & \"_and\" to query more than 1 field (mainclass and subclass)\n",
    "#5340 obs\n",
    "\n",
    "url = ('https://api.patentsview.org/assignees/query?' #static part\n",
    "      \n",
    "        'q={\"_or\":['\n",
    "           '{\"_and\":['\n",
    "               '{\"uspc_subclass_id\":[\"60/272\",\"60/516\",\"60/698\"]},' #uspc subclass id/codes {\"uspc_subclass_id\":\"60/39.01\"}'\n",
    "               '{\"_lte\":{\"year_id\":\"1987\"}}' #year of patent <= 1987\n",
    "           ']},'\n",
    "           '{\"uspc_mainclass_id\":\"123\"}' \n",
    "       ']}'\n",
    "       \n",
    "        '&f=[\"assignee_organization\",\"year_id\",\"uspc_subclass_id\",\"year_num_patents_for_assignee\"]'#what fields to output\n",
    "        '&o={\"matched_subentities_only\":\"true\",\"per_page\":5340}') # Only subentity data that matches the subentity specific criteria is included\n",
    "\n",
    "print(url)\n",
    "print('\\n')"
   ]
  },
  {
   "cell_type": "markdown",
   "metadata": {},
   "source": [
    "Company Info:\n",
    "\n",
    "   \n",
    "        assignee_lastknown_state\t\n",
    "        assignee_lastknown_city\n",
    "        assignee_lastknown_country\n",
    "        assignee_total_num_inventors\n",
    "        assignee_type\n",
    "\n",
    "?assignee_total_num_patents (no)"
   ]
  },
  {
   "cell_type": "code",
   "execution_count": 18,
   "metadata": {},
   "outputs": [
    {
     "name": "stdout",
     "output_type": "stream",
     "text": [
      "https://api.patentsview.org/patents/query?q={\"_and\":[{\"uspc_mainclass_id\":\"123\"},{\"_lte\":{\"patent_date\":\"1987-12-31\"}}]}&f=[\"patent_year\",\"uspc_subclass_id\",\"assignee_type\",\"assignee_id\",\"inventor_id\",\"assignee_organization\",\"patent_number\",\"assignee_country\",\"assignee_state\"]&o={\"matched_subentities_only\":\"true\",\"per_page\":6500}&s={\"assignee_organization\":\"desc\"}\n",
      "200:OK\n"
     ]
    }
   ],
   "source": [
    "url = ('https://api.patentsview.org/patents/query?' #static part\n",
    "      \n",
    "        'q={'\n",
    "           '\"_and\":[' \n",
    "                '{\"uspc_mainclass_id\":\"123\"}' #query uspc_mainclass_id\n",
    "                ',{\"_lte\":{\"patent_date\":\"1987-12-31\"}}' #year of patent <= 1987\n",
    "             ']}'\n",
    "        '&f=[\"patent_year\",\"uspc_subclass_id\",\"assignee_type\",\"assignee_id\",\"inventor_id\",\"assignee_organization\",\"patent_number\",\"assignee_country\",\"assignee_state\"]'\n",
    "        '&o={\"matched_subentities_only\":\"true\",\"per_page\":6500}'\n",
    "        '&s={\"assignee_organization\":\"desc\"}'\n",
    "      )\n",
    "print(url)\n",
    "\n",
    "\n",
    "#get\n",
    "response = requests.get(url) \n",
    "\n",
    "# #print any messages in case of error\n",
    "print(f\"{response.status_code}:{response.reason}\")\n",
    "\n",
    "# #parse into json -> reassign patents var\n",
    "# patents = response.json()\n",
    "\n",
    "# #pretty print json\n",
    "# pp = pprint.PrettyPrinter(indent=1)   \n",
    "# pp.pprint(patents)"
   ]
  },
  {
   "cell_type": "code",
   "execution_count": null,
   "metadata": {},
   "outputs": [],
   "source": []
  }
 ],
 "metadata": {
  "kernelspec": {
   "display_name": "Python 3",
   "language": "python",
   "name": "python3"
  },
  "language_info": {
   "codemirror_mode": {
    "name": "ipython",
    "version": 3
   },
   "file_extension": ".py",
   "mimetype": "text/x-python",
   "name": "python",
   "nbconvert_exporter": "python",
   "pygments_lexer": "ipython3",
   "version": "3.8.5"
  }
 },
 "nbformat": 4,
 "nbformat_minor": 4
}
