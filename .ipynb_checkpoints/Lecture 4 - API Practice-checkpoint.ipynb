{
 "cells": [
  {
   "cell_type": "markdown",
   "metadata": {},
   "source": [
    "Lecture 4: API Practice\n",
    "16 sep 2020\n",
    "\n",
    "http://open-notify.org/\n",
    "\n",
    "1. Number of People in Space API"
   ]
  },
  {
   "cell_type": "code",
   "execution_count": 1,
   "metadata": {},
   "outputs": [
    {
     "name": "stdout",
     "output_type": "stream",
     "text": [
      "Collecting ratelim\n",
      "  Downloading ratelim-0.1.6-py2.py3-none-any.whl (4.0 kB)\n",
      "Collecting tenacity\n",
      "  Downloading tenacity-6.2.0-py2.py3-none-any.whl (24 kB)\n",
      "Requirement already satisfied: decorator in c:\\programdata\\anaconda3\\lib\\site-packages (from ratelim) (4.4.2)\n",
      "Requirement already satisfied: six>=1.9.0 in c:\\programdata\\anaconda3\\lib\\site-packages (from tenacity) (1.15.0)\n",
      "Installing collected packages: ratelim, tenacity\n",
      "Successfully installed ratelim-0.1.6 tenacity-6.2.0\n",
      "Requirement already satisfied: requests in c:\\programdata\\anaconda3\\lib\\site-packages (2.24.0)\n",
      "Requirement already satisfied: chardet<4,>=3.0.2 in c:\\programdata\\anaconda3\\lib\\site-packages (from requests) (3.0.4)\n",
      "Requirement already satisfied: certifi>=2017.4.17 in c:\\programdata\\anaconda3\\lib\\site-packages (from requests) (2020.6.20)\n",
      "Requirement already satisfied: idna<3,>=2.5 in c:\\programdata\\anaconda3\\lib\\site-packages (from requests) (2.10)\n",
      "Requirement already satisfied: urllib3!=1.25.0,!=1.25.1,<1.26,>=1.21.1 in c:\\programdata\\anaconda3\\lib\\site-packages (from requests) (1.25.10)\n"
     ]
    }
   ],
   "source": [
    "!pip install ratelim tenacity\n",
    "!pip install requests"
   ]
  },
  {
   "cell_type": "code",
   "execution_count": 3,
   "metadata": {},
   "outputs": [],
   "source": [
    "import ratelim\n",
    "import tenacity\n",
    "import requests\n"
   ]
  },
  {
   "cell_type": "code",
   "execution_count": 6,
   "metadata": {},
   "outputs": [
    {
     "data": {
      "text/plain": [
       "<Response [200]>"
      ]
     },
     "execution_count": 6,
     "metadata": {},
     "output_type": "execute_result"
    }
   ],
   "source": [
    "#Query URL\n",
    "\n",
    "url = 'http://api.open-notify.org/astros.json'\n",
    "\n",
    "response = requests.get(url) \n",
    "print(f\"{response.status_code}:{response.reason}\")"
   ]
  },
  {
   "cell_type": "code",
   "execution_count": 11,
   "metadata": {},
   "outputs": [
    {
     "data": {
      "text/plain": [
       "{'number': 3,\n",
       " 'people': [{'craft': 'ISS', 'name': 'Chris Cassidy'},\n",
       "  {'craft': 'ISS', 'name': 'Anatoly Ivanishin'},\n",
       "  {'craft': 'ISS', 'name': 'Ivan Vagner'}],\n",
       " 'message': 'success'}"
      ]
     },
     "execution_count": 11,
     "metadata": {},
     "output_type": "execute_result"
    }
   ],
   "source": [
    "payload = response.json() #json() function \n",
    "# Parse `response.text` into JSON\n",
    "\n",
    "payload "
   ]
  },
  {
   "cell_type": "markdown",
   "metadata": {},
   "source": [
    "There are 3 people in space right now\n",
    "\n",
    "2. Predict when ISS will be over Pace University\n",
    "http://api.open-notify.org/iss-pass.json?lat=LAT&lon=LON "
   ]
  },
  {
   "cell_type": "code",
   "execution_count": 14,
   "metadata": {},
   "outputs": [
    {
     "data": {
      "text/plain": [
       "{'message': 'success',\n",
       " 'request': {'altitude': 100,\n",
       "  'datetime': 1600303731,\n",
       "  'latitude': 40.7111,\n",
       "  'longitude': 74.0048,\n",
       "  'passes': 5},\n",
       " 'response': [{'duration': 276, 'risetime': 1600346050},\n",
       "  {'duration': 636, 'risetime': 1600351629},\n",
       "  {'duration': 634, 'risetime': 1600357441},\n",
       "  {'duration': 566, 'risetime': 1600363332},\n",
       "  {'duration': 588, 'risetime': 1600369193}]}"
      ]
     },
     "execution_count": 14,
     "metadata": {},
     "output_type": "execute_result"
    }
   ],
   "source": [
    "#replace LAT and LON with corrodinates \n",
    "url = 'http://api.open-notify.org/iss-pass.json?lat=40.7111&lon=74.0048'\n",
    "\n",
    "response = requests.get(url)\n",
    "\n",
    "response.status_code #tells if you are successful\n",
    "\n",
    "payload = response.json() #parse into json\n",
    "\n",
    "payload"
   ]
  },
  {
   "cell_type": "markdown",
   "metadata": {},
   "source": [
    "3. ISS current location\n",
    "http://api.open-notify.org/iss-now.json"
   ]
  },
  {
   "cell_type": "code",
   "execution_count": 16,
   "metadata": {},
   "outputs": [
    {
     "data": {
      "text/plain": [
       "{'timestamp': 1600304291,\n",
       " 'message': 'success',\n",
       " 'iss_position': {'latitude': '-25.1463', 'longitude': '84.7874'}}"
      ]
     },
     "execution_count": 16,
     "metadata": {},
     "output_type": "execute_result"
    }
   ],
   "source": [
    "url = \"http://api.open-notify.org/iss-now.json\"\n",
    "\n",
    "response = requests.get(url)\n",
    "\n",
    "response.status_code\n",
    "\n",
    "payload = response.json()\n",
    "\n",
    "payload"
   ]
  }
 ],
 "metadata": {
  "kernelspec": {
   "display_name": "Python 3",
   "language": "python",
   "name": "python3"
  },
  "language_info": {
   "codemirror_mode": {
    "name": "ipython",
    "version": 3
   },
   "file_extension": ".py",
   "mimetype": "text/x-python",
   "name": "python",
   "nbconvert_exporter": "python",
   "pygments_lexer": "ipython3",
   "version": "3.8.5"
  }
 },
 "nbformat": 4,
 "nbformat_minor": 4
}
