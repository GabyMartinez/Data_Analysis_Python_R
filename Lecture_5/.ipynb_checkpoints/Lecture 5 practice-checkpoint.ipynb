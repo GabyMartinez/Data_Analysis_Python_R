{
 "cells": [
  {
   "cell_type": "markdown",
   "metadata": {},
   "source": [
    "Lecture 5: Servers \n",
    "practice\n",
    "\n",
    "Linux commands\n",
    "`!` runs linux commands"
   ]
  },
  {
   "cell_type": "code",
   "execution_count": 7,
   "metadata": {},
   "outputs": [
    {
     "data": {
      "text/plain": [
       "'C:\\\\Users\\\\Gabrielle Martinez\\\\Documents\\\\eco590_Data_Analysis_Python_R\\\\Lecture_5'"
      ]
     },
     "execution_count": 7,
     "metadata": {},
     "output_type": "execute_result"
    }
   ],
   "source": [
    "pwd #current path"
   ]
  },
  {
   "cell_type": "code",
   "execution_count": 8,
   "metadata": {},
   "outputs": [
    {
     "name": "stdout",
     "output_type": "stream",
     "text": [
      " Volume in drive C has no label.\n",
      " Volume Serial Number is 0E92-7058\n",
      "\n",
      " Directory of C:\\Users\\Gabrielle Martinez\\Documents\\eco590_Data_Analysis_Python_R\\Lecture_5\n",
      "\n",
      "09/23/2020  06:50 PM    <DIR>          .\n",
      "09/23/2020  06:50 PM    <DIR>          ..\n",
      "09/23/2020  06:48 PM    <DIR>          .ipynb_checkpoints\n",
      "09/23/2020  06:15 PM           349,119 browser.png\n",
      "09/23/2020  06:15 PM            17,746 Lecture 5.ipynb\n",
      "09/23/2020  06:15 PM        11,938,223 open_notebook_server.gif\n",
      "09/23/2020  06:15 PM        10,108,136 screen_start.gif\n",
      "09/23/2020  06:15 PM        11,483,119 server_access.gif\n",
      "09/23/2020  06:15 PM           221,223 server_access.png\n",
      "09/23/2020  06:50 PM               941 Untitled.ipynb\n",
      "               7 File(s)     34,118,507 bytes\n",
      "               3 Dir(s)  411,435,245,568 bytes free\n"
     ]
    }
   ],
   "source": [
    "ls #list files in directory"
   ]
  },
  {
   "cell_type": "code",
   "execution_count": 10,
   "metadata": {},
   "outputs": [
    {
     "name": "stdout",
     "output_type": "stream",
     "text": [
      " Volume in drive C has no label.\n",
      " Volume Serial Number is 0E92-7058\n",
      "\n",
      " Directory of C:\\Users\\Gabrielle Martinez\\Documents\\eco590_Data_Analysis_Python_R\\Lecture_5\n",
      "\n",
      "09/23/2020  06:52 PM    <DIR>          .\n",
      "09/23/2020  06:52 PM    <DIR>          ..\n",
      "09/23/2020  06:48 PM    <DIR>          .ipynb_checkpoints\n",
      "09/23/2020  06:15 PM           349,119 browser.png\n",
      "09/23/2020  06:15 PM            17,746 Lecture 5.ipynb\n",
      "09/23/2020  06:15 PM        11,938,223 open_notebook_server.gif\n",
      "09/23/2020  06:15 PM        10,108,136 screen_start.gif\n",
      "09/23/2020  06:15 PM        11,483,119 server_access.gif\n",
      "09/23/2020  06:15 PM           221,223 server_access.png\n",
      "09/23/2020  06:52 PM             2,365 Untitled.ipynb\n",
      "               7 File(s)     34,119,931 bytes\n",
      "               3 Dir(s)  411,435,130,880 bytes free\n"
     ]
    }
   ],
   "source": [
    "!dir"
   ]
  },
  {
   "cell_type": "code",
   "execution_count": 11,
   "metadata": {},
   "outputs": [
    {
     "name": "stdout",
     "output_type": "stream",
     "text": [
      " Volume in drive C has no label.\n",
      " Volume Serial Number is 0E92-7058\n",
      "\n",
      " Directory of C:\\Users\\Gabrielle Martinez\\Documents\\eco590_Data_Analysis_Python_R\\Lecture_5\n",
      "\n"
     ]
    },
    {
     "name": "stderr",
     "output_type": "stream",
     "text": [
      "File Not Found\n"
     ]
    }
   ],
   "source": [
    "ls -a"
   ]
  },
  {
   "cell_type": "code",
   "execution_count": 15,
   "metadata": {},
   "outputs": [
    {
     "name": "stdout",
     "output_type": "stream",
     "text": [
      "[WinError 2] The system cannot find the file specified: '.. #change dir one folder up'\n",
      "C:\\Users\\Gabrielle Martinez\\Documents\\eco590_Data_Analysis_Python_R\\Lecture_5\n"
     ]
    }
   ],
   "source": [
    "cd .. #change dir one folder up"
   ]
  },
  {
   "cell_type": "code",
   "execution_count": 18,
   "metadata": {},
   "outputs": [
    {
     "name": "stdout",
     "output_type": "stream",
     "text": [
      "C:\\Users\\Gabrielle Martinez\n"
     ]
    }
   ],
   "source": [
    "cd ~ #root dir"
   ]
  },
  {
   "cell_type": "code",
   "execution_count": 20,
   "metadata": {},
   "outputs": [
    {
     "name": "stdout",
     "output_type": "stream",
     "text": [
      " Volume in drive C has no label.\n",
      " Volume Serial Number is 0E92-7058\n",
      "\n",
      " Directory of C:\\Users\\Gabrielle Martinez\n",
      "\n",
      "09/11/2020  03:56 PM    <DIR>          .\n",
      "09/11/2020  03:56 PM    <DIR>          ..\n",
      "09/09/2020  09:48 PM    <DIR>          .conda\n",
      "09/09/2020  09:46 PM                43 .condarc\n",
      "06/01/2020  01:51 PM               210 .gitconfig\n",
      "09/09/2020  04:48 PM    <DIR>          .ipython\n",
      "09/09/2020  04:54 PM    <DIR>          .jupyter\n",
      "09/09/2020  04:48 PM    <DIR>          .matplotlib\n",
      "09/09/2020  04:48 PM    <DIR>          .spyder-py3\n",
      "06/01/2020  02:12 PM    <DIR>          .vscode\n",
      "09/13/2020  05:36 PM    <DIR>          3D Objects\n",
      "09/13/2020  05:36 PM    <DIR>          Contacts\n",
      "09/17/2020  10:38 AM    <DIR>          Creative Cloud Files\n",
      "09/23/2020  03:02 PM    <DIR>          Desktop\n",
      "09/18/2020  11:52 AM    <DIR>          Documents\n",
      "09/23/2020  05:52 PM    <DIR>          Downloads\n",
      "09/13/2020  05:36 PM    <DIR>          Favorites\n",
      "09/13/2020  05:36 PM    <DIR>          Links\n",
      "09/13/2020  05:36 PM    <DIR>          Music\n",
      "09/21/2020  12:26 PM    <DIR>          OneDrive\n",
      "09/13/2020  05:36 PM    <DIR>          Saved Games\n",
      "09/13/2020  05:36 PM    <DIR>          Searches\n",
      "09/13/2020  05:36 PM    <DIR>          Videos\n",
      "               2 File(s)            253 bytes\n",
      "              21 Dir(s)  411,435,888,640 bytes free\n"
     ]
    }
   ],
   "source": [
    "ls"
   ]
  },
  {
   "cell_type": "code",
   "execution_count": 21,
   "metadata": {},
   "outputs": [
    {
     "name": "stdout",
     "output_type": "stream",
     "text": [
      "C:\\Users\\Gabrielle Martinez\\Documents\n"
     ]
    }
   ],
   "source": [
    "cd Documents"
   ]
  },
  {
   "cell_type": "markdown",
   "metadata": {},
   "source": [
    "`mkdir` makes dir\n",
    "`rmdir` removes dir\n",
    "`mv` move dir\n",
    "\n",
    "`head` first 10 lines of a file\n",
    "`cat` prints full file\n",
    "\n",
    "`zip -r zipfilename.zip dirname` create zip file"
   ]
  },
  {
   "cell_type": "code",
   "execution_count": null,
   "metadata": {},
   "outputs": [],
   "source": []
  }
 ],
 "metadata": {
  "kernelspec": {
   "display_name": "Python 3",
   "language": "python",
   "name": "python3"
  },
  "language_info": {
   "codemirror_mode": {
    "name": "ipython",
    "version": 3
   },
   "file_extension": ".py",
   "mimetype": "text/x-python",
   "name": "python",
   "nbconvert_exporter": "python",
   "pygments_lexer": "ipython3",
   "version": "3.8.5"
  }
 },
 "nbformat": 4,
 "nbformat_minor": 4
}
