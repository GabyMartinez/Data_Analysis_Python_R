{
 "cells": [
  {
   "cell_type": "code",
   "execution_count": 1,
   "metadata": {
    "collapsed": true
   },
   "outputs": [
    {
     "name": "stdout",
     "output_type": "stream",
     "text": [
      "Requirement already up-to-date: seaborn in c:\\users\\gabrielle martinez\\appdata\\roaming\\python\\python38\\site-packages (0.11.0)\n",
      "Requirement already satisfied, skipping upgrade: pandas>=0.23 in c:\\programdata\\anaconda3\\lib\\site-packages (from seaborn) (1.1.1)\n",
      "Requirement already satisfied, skipping upgrade: matplotlib>=2.2 in c:\\programdata\\anaconda3\\lib\\site-packages (from seaborn) (3.3.1)\n",
      "Requirement already satisfied, skipping upgrade: scipy>=1.0 in c:\\programdata\\anaconda3\\lib\\site-packages (from seaborn) (1.5.0)\n",
      "Requirement already satisfied, skipping upgrade: numpy>=1.15 in c:\\programdata\\anaconda3\\lib\\site-packages (from seaborn) (1.19.1)\n",
      "Requirement already satisfied, skipping upgrade: pytz>=2017.2 in c:\\programdata\\anaconda3\\lib\\site-packages (from pandas>=0.23->seaborn) (2020.1)\n",
      "Requirement already satisfied, skipping upgrade: python-dateutil>=2.7.3 in c:\\programdata\\anaconda3\\lib\\site-packages (from pandas>=0.23->seaborn) (2.8.1)\n",
      "Requirement already satisfied, skipping upgrade: kiwisolver>=1.0.1 in c:\\programdata\\anaconda3\\lib\\site-packages (from matplotlib>=2.2->seaborn) (1.2.0)\n",
      "Requirement already satisfied, skipping upgrade: cycler>=0.10 in c:\\programdata\\anaconda3\\lib\\site-packages (from matplotlib>=2.2->seaborn) (0.10.0)\n",
      "Requirement already satisfied, skipping upgrade: pillow>=6.2.0 in c:\\programdata\\anaconda3\\lib\\site-packages (from matplotlib>=2.2->seaborn) (7.2.0)\n",
      "Requirement already satisfied, skipping upgrade: certifi>=2020.06.20 in c:\\programdata\\anaconda3\\lib\\site-packages (from matplotlib>=2.2->seaborn) (2020.6.20)\n",
      "Requirement already satisfied, skipping upgrade: pyparsing!=2.0.4,!=2.1.2,!=2.1.6,>=2.0.3 in c:\\programdata\\anaconda3\\lib\\site-packages (from matplotlib>=2.2->seaborn) (2.4.7)\n",
      "Requirement already satisfied, skipping upgrade: six>=1.5 in c:\\programdata\\anaconda3\\lib\\site-packages (from python-dateutil>=2.7.3->pandas>=0.23->seaborn) (1.15.0)\n"
     ]
    }
   ],
   "source": [
    "!pip install seaborn --upgrade"
   ]
  },
  {
   "cell_type": "code",
   "execution_count": 31,
   "metadata": {},
   "outputs": [],
   "source": [
    "import pandas as pd\n",
    "import seaborn as sns\n",
    "import matplotlib.pyplot as plt"
   ]
  },
  {
   "cell_type": "code",
   "execution_count": 9,
   "metadata": {},
   "outputs": [
    {
     "data": {
      "text/plain": [
       "'C:\\\\Users\\\\Gabrielle Martinez\\\\Documents\\\\eco590_Data_Analysis_Python_R\\\\assignment 4 ECO400'"
      ]
     },
     "execution_count": 9,
     "metadata": {},
     "output_type": "execute_result"
    }
   ],
   "source": [
    "pwd"
   ]
  },
  {
   "cell_type": "code",
   "execution_count": 8,
   "metadata": {},
   "outputs": [
    {
     "data": {
      "text/html": [
       "<div>\n",
       "<style scoped>\n",
       "    .dataframe tbody tr th:only-of-type {\n",
       "        vertical-align: middle;\n",
       "    }\n",
       "\n",
       "    .dataframe tbody tr th {\n",
       "        vertical-align: top;\n",
       "    }\n",
       "\n",
       "    .dataframe thead th {\n",
       "        text-align: right;\n",
       "    }\n",
       "</style>\n",
       "<table border=\"1\" class=\"dataframe\">\n",
       "  <thead>\n",
       "    <tr style=\"text-align: right;\">\n",
       "      <th></th>\n",
       "      <th>assignee_key_id</th>\n",
       "      <th>years</th>\n",
       "      <th>assignee_organization</th>\n",
       "      <th>assignee_type</th>\n",
       "      <th>assignee_country</th>\n",
       "      <th>assignee_state</th>\n",
       "      <th>number_of_patents</th>\n",
       "      <th>number_of_inventors</th>\n",
       "      <th>specialization</th>\n",
       "      <th>fuel_dollars_per_gallon</th>\n",
       "      <th>domestic</th>\n",
       "      <th>government</th>\n",
       "    </tr>\n",
       "  </thead>\n",
       "  <tbody>\n",
       "    <tr>\n",
       "      <th>0</th>\n",
       "      <td>633</td>\n",
       "      <td>1980</td>\n",
       "      <td>Blackstone Corporation</td>\n",
       "      <td>2</td>\n",
       "      <td>US</td>\n",
       "      <td>NY</td>\n",
       "      <td>1</td>\n",
       "      <td>1</td>\n",
       "      <td>123/41.8</td>\n",
       "      <td>1.28</td>\n",
       "      <td>1</td>\n",
       "      <td>0</td>\n",
       "    </tr>\n",
       "    <tr>\n",
       "      <th>1</th>\n",
       "      <td>1544</td>\n",
       "      <td>1977</td>\n",
       "      <td>American Motors Corporation</td>\n",
       "      <td>2</td>\n",
       "      <td>US</td>\n",
       "      <td>MI</td>\n",
       "      <td>1</td>\n",
       "      <td>1</td>\n",
       "      <td>123/553</td>\n",
       "      <td>0.65</td>\n",
       "      <td>1</td>\n",
       "      <td>0</td>\n",
       "    </tr>\n",
       "    <tr>\n",
       "      <th>2</th>\n",
       "      <td>2267</td>\n",
       "      <td>1976</td>\n",
       "      <td>Toyota Jidosha Kabushiki Kaisha</td>\n",
       "      <td>3</td>\n",
       "      <td>JP</td>\n",
       "      <td>.</td>\n",
       "      <td>55</td>\n",
       "      <td>118</td>\n",
       "      <td>123/547</td>\n",
       "      <td>NaN</td>\n",
       "      <td>0</td>\n",
       "      <td>0</td>\n",
       "    </tr>\n",
       "    <tr>\n",
       "      <th>3</th>\n",
       "      <td>2267</td>\n",
       "      <td>1977</td>\n",
       "      <td>Toyota Jidosha Kabushiki Kaisha</td>\n",
       "      <td>3</td>\n",
       "      <td>.</td>\n",
       "      <td>.</td>\n",
       "      <td>1</td>\n",
       "      <td>198</td>\n",
       "      <td>123/568.29</td>\n",
       "      <td>NaN</td>\n",
       "      <td>0</td>\n",
       "      <td>0</td>\n",
       "    </tr>\n",
       "    <tr>\n",
       "      <th>4</th>\n",
       "      <td>2267</td>\n",
       "      <td>1977</td>\n",
       "      <td>Toyota Jidosha Kabushiki Kaisha</td>\n",
       "      <td>3</td>\n",
       "      <td>JP</td>\n",
       "      <td>.</td>\n",
       "      <td>85</td>\n",
       "      <td>198</td>\n",
       "      <td>123/568.29</td>\n",
       "      <td>NaN</td>\n",
       "      <td>0</td>\n",
       "      <td>0</td>\n",
       "    </tr>\n",
       "    <tr>\n",
       "      <th>...</th>\n",
       "      <td>...</td>\n",
       "      <td>...</td>\n",
       "      <td>...</td>\n",
       "      <td>...</td>\n",
       "      <td>...</td>\n",
       "      <td>...</td>\n",
       "      <td>...</td>\n",
       "      <td>...</td>\n",
       "      <td>...</td>\n",
       "      <td>...</td>\n",
       "      <td>...</td>\n",
       "      <td>...</td>\n",
       "    </tr>\n",
       "    <tr>\n",
       "      <th>1258</th>\n",
       "      <td>452507</td>\n",
       "      <td>1987</td>\n",
       "      <td>EATON CORPORATION</td>\n",
       "      <td>2</td>\n",
       "      <td>US</td>\n",
       "      <td>OH</td>\n",
       "      <td>1</td>\n",
       "      <td>1</td>\n",
       "      <td>701/104</td>\n",
       "      <td>0.92</td>\n",
       "      <td>1</td>\n",
       "      <td>0</td>\n",
       "    </tr>\n",
       "    <tr>\n",
       "      <th>1259</th>\n",
       "      <td>452585</td>\n",
       "      <td>1976</td>\n",
       "      <td>Rodina Energy R &amp; D Corporation</td>\n",
       "      <td>2</td>\n",
       "      <td>US</td>\n",
       "      <td>NY</td>\n",
       "      <td>1</td>\n",
       "      <td>1</td>\n",
       "      <td>123/2</td>\n",
       "      <td>0.62</td>\n",
       "      <td>1</td>\n",
       "      <td>0</td>\n",
       "    </tr>\n",
       "    <tr>\n",
       "      <th>1260</th>\n",
       "      <td>453556</td>\n",
       "      <td>1982</td>\n",
       "      <td>Hybricon Corporation</td>\n",
       "      <td>2</td>\n",
       "      <td>US</td>\n",
       "      <td>CA</td>\n",
       "      <td>2</td>\n",
       "      <td>4</td>\n",
       "      <td>180/65.225</td>\n",
       "      <td>1.35</td>\n",
       "      <td>1</td>\n",
       "      <td>0</td>\n",
       "    </tr>\n",
       "    <tr>\n",
       "      <th>1261</th>\n",
       "      <td>454220</td>\n",
       "      <td>1979</td>\n",
       "      <td>Telcefo Security Products AB</td>\n",
       "      <td>3</td>\n",
       "      <td>SE</td>\n",
       "      <td>.</td>\n",
       "      <td>1</td>\n",
       "      <td>4</td>\n",
       "      <td>123/198B</td>\n",
       "      <td>NaN</td>\n",
       "      <td>0</td>\n",
       "      <td>0</td>\n",
       "    </tr>\n",
       "    <tr>\n",
       "      <th>1262</th>\n",
       "      <td>455978</td>\n",
       "      <td>1976</td>\n",
       "      <td>Adui NSU Auto Union Aktiengesellschaft</td>\n",
       "      <td>3</td>\n",
       "      <td>DE</td>\n",
       "      <td>.</td>\n",
       "      <td>1</td>\n",
       "      <td>3</td>\n",
       "      <td>123/210</td>\n",
       "      <td>NaN</td>\n",
       "      <td>0</td>\n",
       "      <td>0</td>\n",
       "    </tr>\n",
       "  </tbody>\n",
       "</table>\n",
       "<p>1263 rows × 12 columns</p>\n",
       "</div>"
      ],
      "text/plain": [
       "      assignee_key_id  years                   assignee_organization  \\\n",
       "0                 633   1980                  Blackstone Corporation   \n",
       "1                1544   1977             American Motors Corporation   \n",
       "2                2267   1976         Toyota Jidosha Kabushiki Kaisha   \n",
       "3                2267   1977         Toyota Jidosha Kabushiki Kaisha   \n",
       "4                2267   1977         Toyota Jidosha Kabushiki Kaisha   \n",
       "...               ...    ...                                     ...   \n",
       "1258           452507   1987                       EATON CORPORATION   \n",
       "1259           452585   1976         Rodina Energy R & D Corporation   \n",
       "1260           453556   1982                    Hybricon Corporation   \n",
       "1261           454220   1979            Telcefo Security Products AB   \n",
       "1262           455978   1976  Adui NSU Auto Union Aktiengesellschaft   \n",
       "\n",
       "      assignee_type assignee_country assignee_state  number_of_patents  \\\n",
       "0                 2               US             NY                  1   \n",
       "1                 2               US             MI                  1   \n",
       "2                 3               JP              .                 55   \n",
       "3                 3                .              .                  1   \n",
       "4                 3               JP              .                 85   \n",
       "...             ...              ...            ...                ...   \n",
       "1258              2               US             OH                  1   \n",
       "1259              2               US             NY                  1   \n",
       "1260              2               US             CA                  2   \n",
       "1261              3               SE              .                  1   \n",
       "1262              3               DE              .                  1   \n",
       "\n",
       "      number_of_inventors specialization  fuel_dollars_per_gallon  domestic  \\\n",
       "0                       1       123/41.8                     1.28         1   \n",
       "1                       1        123/553                     0.65         1   \n",
       "2                     118        123/547                      NaN         0   \n",
       "3                     198     123/568.29                      NaN         0   \n",
       "4                     198     123/568.29                      NaN         0   \n",
       "...                   ...            ...                      ...       ...   \n",
       "1258                    1        701/104                     0.92         1   \n",
       "1259                    1          123/2                     0.62         1   \n",
       "1260                    4     180/65.225                     1.35         1   \n",
       "1261                    4       123/198B                      NaN         0   \n",
       "1262                    3        123/210                      NaN         0   \n",
       "\n",
       "      government  \n",
       "0              0  \n",
       "1              0  \n",
       "2              0  \n",
       "3              0  \n",
       "4              0  \n",
       "...          ...  \n",
       "1258           0  \n",
       "1259           0  \n",
       "1260           0  \n",
       "1261           0  \n",
       "1262           0  \n",
       "\n",
       "[1263 rows x 12 columns]"
      ]
     },
     "execution_count": 8,
     "metadata": {},
     "output_type": "execute_result"
    }
   ],
   "source": [
    "#load dataset\n",
    "firms = pd.read_csv(\"Gabrielle_Martinez_asn4.csv\")\n",
    "firms"
   ]
  },
  {
   "cell_type": "code",
   "execution_count": 75,
   "metadata": {},
   "outputs": [
    {
     "name": "stderr",
     "output_type": "stream",
     "text": [
      "C:\\Users\\Gabrielle Martinez\\AppData\\Roaming\\Python\\Python38\\site-packages\\seaborn\\_decorators.py:36: FutureWarning: Pass the following variables as keyword args: x, y. From version 0.12, the only valid positional argument will be `data`, and passing other arguments without an explicit keyword will result in an error or misinterpretation.\n",
      "  warnings.warn(\n"
     ]
    },
    {
     "data": {
      "text/plain": [
       "<Figure size 720x720 with 0 Axes>"
      ]
     },
     "execution_count": 75,
     "metadata": {},
     "output_type": "execute_result"
    },
    {
     "data": {
      "image/png": "[encoded data removed]",
      "text/plain": [
       "<Figure size 432x288 with 1 Axes>"
      ]
     },
     "metadata": {},
     "output_type": "display_data"
    },
    {
     "data": {
      "text/plain": [
       "<Figure size 720x720 with 0 Axes>"
      ]
     },
     "metadata": {},
     "output_type": "display_data"
    }
   ],
   "source": [
    "#fuel price by year #do a heat map for this!\n",
    "\n",
    "#select columns\n",
    "select = firms[['years','fuel_dollars_per_gallon']].dropna()\n",
    "# select\n",
    "\n",
    "# fuel_by_year = select.groupby(['years','fuel_dollars_per_gallon'])\n",
    "# fuel_by_year\n",
    "\n",
    "\n",
    "#line graph\n",
    "sns.set(font_scale=1)\n",
    "sns.set_style('white')\n",
    "\n",
    "sns.scatterplot('years','fuel_dollars_per_gallon', data=select)\n",
    "plt.xlabel('Year')\n",
    "plt.ylabel('Price of a gallon of Fuel')\n",
    "plt.title('Price of Fuel in the US Between 1976 and 1987')\n",
    "# plt.text('hello',)\n",
    "# plt.figtext(0.1,0, 'Variance is due to each state having a different price of gasoline',fontsize=12)\n",
    "\n",
    "plt.figure(figsize=(10,10))\n",
    "# plt.savefig('fuel_by_year', dpi = 300)\n",
    "\n"
   ]
  },
  {
   "cell_type": "code",
   "execution_count": 103,
   "metadata": {},
   "outputs": [
    {
     "name": "stderr",
     "output_type": "stream",
     "text": [
      "C:\\Users\\Gabrielle Martinez\\AppData\\Roaming\\Python\\Python38\\site-packages\\seaborn\\_decorators.py:36: FutureWarning: Pass the following variables as keyword args: x, y. From version 0.12, the only valid positional argument will be `data`, and passing other arguments without an explicit keyword will result in an error or misinterpretation.\n",
      "  warnings.warn(\n"
     ]
    },
    {
     "data": {
      "image/png": "[encoded data removed]",
      "text/plain": [
       "<Figure size 432x288 with 1 Axes>"
      ]
     },
     "metadata": {},
     "output_type": "display_data"
    }
   ],
   "source": [
    "#number of patents and year\n",
    "\n",
    "select = firms[['years','number_of_patents','domestic']]\n",
    "select = select[select['domestic']==1]\n",
    "# select\n",
    "\n",
    "patents_by_year = select[['years','number_of_patents']].groupby(['years']).sum().drop_duplicates().reset_index()\n",
    "# patents_by_year\n",
    "\n",
    "#bar graph (x,y,data)\n",
    "\n",
    "sns.barplot('years','number_of_patents',data=patents_by_year,color='#4C72B0')\n",
    "plt.xlabel('Years')\n",
    "plt.ylabel('Number of Patents')\n",
    "plt.title('Total Number of Patents Per Year for Domestic Firms',fontsize=14)\n",
    "\n",
    "plt.savefig('patents_by_year', dpi = 300)"
   ]
  }
 ],
 "metadata": {
  "kernelspec": {
   "display_name": "Python 3",
   "language": "python",
   "name": "python3"
  },
  "language_info": {
   "codemirror_mode": {
    "name": "ipython",
    "version": 3
   },
   "file_extension": ".py",
   "mimetype": "text/x-python",
   "name": "python",
   "nbconvert_exporter": "python",
   "pygments_lexer": "ipython3",
   "version": "3.8.5"
  }
 },
 "nbformat": 4,
 "nbformat_minor": 4
}
