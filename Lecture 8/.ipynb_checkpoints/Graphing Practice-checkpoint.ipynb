{
 "cells": [
  {
   "cell_type": "markdown",
   "metadata": {},
   "source": [
    "## Graphing Practice"
   ]
  },
  {
   "cell_type": "code",
   "execution_count": 2,
   "metadata": {},
   "outputs": [],
   "source": [
    "import pandas as pd\n",
    "import matplotlib.pyplot as plt "
   ]
  },
  {
   "cell_type": "markdown",
   "metadata": {},
   "source": [
    "Use the jobs automation dataset and create:\n",
    "1. A Histogram of the variable 'probability'\n",
    "2. A scatter plot of 'Average annual wage' and 'numbEmployed'\n",
    "3. Put both of these graphs in one figure\n",
    "4. Using item 3, change the ticks of Number Employed axes so that it is in logarithmic axis (it's an option) \n",
    "5. Adding onto item 4, add a title and axis labels\n",
    "6. Save your figure as a png\n",
    "Import 'job-automation-probability.csv' from lecture 8 folder\n"
   ]
  },
  {
   "cell_type": "code",
   "execution_count": 3,
   "metadata": {},
   "outputs": [
    {
     "data": {
      "text/plain": [
       "'C:\\\\Users\\\\Gabrielle Martinez\\\\Documents\\\\eco590_Data_Analysis_Python_R\\\\Lecture 8'"
      ]
     },
     "execution_count": 3,
     "metadata": {},
     "output_type": "execute_result"
    }
   ],
   "source": [
    "pwd"
   ]
  },
  {
   "cell_type": "code",
   "execution_count": 6,
   "metadata": {
    "scrolled": true
   },
   "outputs": [
    {
     "data": {
      "text/html": [
       "<div>\n",
       "<style scoped>\n",
       "    .dataframe tbody tr th:only-of-type {\n",
       "        vertical-align: middle;\n",
       "    }\n",
       "\n",
       "    .dataframe tbody tr th {\n",
       "        vertical-align: top;\n",
       "    }\n",
       "\n",
       "    .dataframe thead th {\n",
       "        text-align: right;\n",
       "    }\n",
       "</style>\n",
       "<table border=\"1\" class=\"dataframe\">\n",
       "  <thead>\n",
       "    <tr style=\"text-align: right;\">\n",
       "      <th></th>\n",
       "      <th>_ - rank</th>\n",
       "      <th>_ - code</th>\n",
       "      <th>prob</th>\n",
       "      <th>Average annual wage</th>\n",
       "      <th>education</th>\n",
       "      <th>occupation</th>\n",
       "      <th>short occupation</th>\n",
       "      <th>len</th>\n",
       "      <th>probability</th>\n",
       "      <th>numbEmployed</th>\n",
       "      <th>median_ann_wage</th>\n",
       "      <th>employed_may2016</th>\n",
       "      <th>average_ann_wage</th>\n",
       "    </tr>\n",
       "  </thead>\n",
       "  <tbody>\n",
       "    <tr>\n",
       "      <th>0</th>\n",
       "      <td>624</td>\n",
       "      <td>51-4033</td>\n",
       "      <td>0.9500</td>\n",
       "      <td>34920.0</td>\n",
       "      <td>High school diploma or equivalent</td>\n",
       "      <td>Grinding, Lapping, Polishing and Buffing Machi...</td>\n",
       "      <td>Tool setters, operators and tenders</td>\n",
       "      <td>35</td>\n",
       "      <td>0.9500</td>\n",
       "      <td>74600</td>\n",
       "      <td>32890.0</td>\n",
       "      <td>74600</td>\n",
       "      <td>34920.0</td>\n",
       "    </tr>\n",
       "    <tr>\n",
       "      <th>1</th>\n",
       "      <td>517</td>\n",
       "      <td>51-9012</td>\n",
       "      <td>0.8800</td>\n",
       "      <td>41450.0</td>\n",
       "      <td>High school diploma or equivalent</td>\n",
       "      <td>Separating, Filtering, Clarifying, Precipitati...</td>\n",
       "      <td>Tool setters, operators and tenders</td>\n",
       "      <td>35</td>\n",
       "      <td>0.8800</td>\n",
       "      <td>47160</td>\n",
       "      <td>38360.0</td>\n",
       "      <td>47160</td>\n",
       "      <td>41450.0</td>\n",
       "    </tr>\n",
       "    <tr>\n",
       "      <th>2</th>\n",
       "      <td>484</td>\n",
       "      <td>41-4012</td>\n",
       "      <td>0.8500</td>\n",
       "      <td>68410.0</td>\n",
       "      <td>High school diploma or equivalent</td>\n",
       "      <td>Sales Representatives, Wholesale and Manufactu...</td>\n",
       "      <td>Sales Representatives, Wholesale and Manufactu...</td>\n",
       "      <td>92</td>\n",
       "      <td>0.8500</td>\n",
       "      <td>1404050</td>\n",
       "      <td>57140.0</td>\n",
       "      <td>1404050</td>\n",
       "      <td>68410.0</td>\n",
       "    </tr>\n",
       "    <tr>\n",
       "      <th>3</th>\n",
       "      <td>105</td>\n",
       "      <td>53-1031</td>\n",
       "      <td>0.0290</td>\n",
       "      <td>59800.0</td>\n",
       "      <td>High school diploma or equivalent</td>\n",
       "      <td>First-Line Supervisors of Transportation and M...</td>\n",
       "      <td>Supervisors Transportation</td>\n",
       "      <td>26</td>\n",
       "      <td>0.0290</td>\n",
       "      <td>202760</td>\n",
       "      <td>57270.0</td>\n",
       "      <td>202760</td>\n",
       "      <td>59800.0</td>\n",
       "    </tr>\n",
       "    <tr>\n",
       "      <th>4</th>\n",
       "      <td>620</td>\n",
       "      <td>51-4072</td>\n",
       "      <td>0.9500</td>\n",
       "      <td>32660.0</td>\n",
       "      <td>High school diploma or equivalent</td>\n",
       "      <td>Molding, Coremaking and Casting Machine Setter...</td>\n",
       "      <td>Molding, Coremaking and Casting Machine Setter...</td>\n",
       "      <td>89</td>\n",
       "      <td>0.9500</td>\n",
       "      <td>145560</td>\n",
       "      <td>30480.0</td>\n",
       "      <td>145560</td>\n",
       "      <td>32660.0</td>\n",
       "    </tr>\n",
       "    <tr>\n",
       "      <th>...</th>\n",
       "      <td>...</td>\n",
       "      <td>...</td>\n",
       "      <td>...</td>\n",
       "      <td>...</td>\n",
       "      <td>...</td>\n",
       "      <td>...</td>\n",
       "      <td>...</td>\n",
       "      <td>...</td>\n",
       "      <td>...</td>\n",
       "      <td>...</td>\n",
       "      <td>...</td>\n",
       "      <td>...</td>\n",
       "      <td>...</td>\n",
       "    </tr>\n",
       "    <tr>\n",
       "      <th>697</th>\n",
       "      <td>259</td>\n",
       "      <td>27-2011</td>\n",
       "      <td>0.3700</td>\n",
       "      <td>71313.6</td>\n",
       "      <td>Some college, no degree</td>\n",
       "      <td>Actors</td>\n",
       "      <td>Actors</td>\n",
       "      <td>6</td>\n",
       "      <td>0.3700</td>\n",
       "      <td>48620</td>\n",
       "      <td>33473.0</td>\n",
       "      <td>48620</td>\n",
       "      <td>71313.6</td>\n",
       "    </tr>\n",
       "    <tr>\n",
       "      <th>698</th>\n",
       "      <td>522</td>\n",
       "      <td>51-3011</td>\n",
       "      <td>0.8900</td>\n",
       "      <td>27110.0</td>\n",
       "      <td>No formal educational credential</td>\n",
       "      <td>Bakers</td>\n",
       "      <td>Bakers</td>\n",
       "      <td>6</td>\n",
       "      <td>0.8900</td>\n",
       "      <td>180450</td>\n",
       "      <td>25090.0</td>\n",
       "      <td>180450</td>\n",
       "      <td>27110.0</td>\n",
       "    </tr>\n",
       "    <tr>\n",
       "      <th>699</th>\n",
       "      <td>42</td>\n",
       "      <td>21-2011</td>\n",
       "      <td>0.0081</td>\n",
       "      <td>49450.0</td>\n",
       "      <td>Bachelor's degree</td>\n",
       "      <td>Clergy</td>\n",
       "      <td>Clergy</td>\n",
       "      <td>6</td>\n",
       "      <td>0.0081</td>\n",
       "      <td>49320</td>\n",
       "      <td>45740.0</td>\n",
       "      <td>49320</td>\n",
       "      <td>49450.0</td>\n",
       "    </tr>\n",
       "    <tr>\n",
       "      <th>700</th>\n",
       "      <td>669</td>\n",
       "      <td>41-9012</td>\n",
       "      <td>0.9800</td>\n",
       "      <td>36560.0</td>\n",
       "      <td>No formal educational credential</td>\n",
       "      <td>Models</td>\n",
       "      <td>Models</td>\n",
       "      <td>6</td>\n",
       "      <td>0.9800</td>\n",
       "      <td>4390</td>\n",
       "      <td>21870.0</td>\n",
       "      <td>4390</td>\n",
       "      <td>36560.0</td>\n",
       "    </tr>\n",
       "    <tr>\n",
       "      <th>701</th>\n",
       "      <td>344</td>\n",
       "      <td>47-2082</td>\n",
       "      <td>0.6200</td>\n",
       "      <td>53790.0</td>\n",
       "      <td>No formal educational credential</td>\n",
       "      <td>Tapers</td>\n",
       "      <td>Tapers</td>\n",
       "      <td>6</td>\n",
       "      <td>0.6200</td>\n",
       "      <td>18480</td>\n",
       "      <td>48990.0</td>\n",
       "      <td>18480</td>\n",
       "      <td>53790.0</td>\n",
       "    </tr>\n",
       "  </tbody>\n",
       "</table>\n",
       "<p>702 rows × 13 columns</p>\n",
       "</div>"
      ],
      "text/plain": [
       "     _ - rank _ - code    prob  Average annual wage  \\\n",
       "0         624  51-4033  0.9500              34920.0   \n",
       "1         517  51-9012  0.8800              41450.0   \n",
       "2         484  41-4012  0.8500              68410.0   \n",
       "3         105  53-1031  0.0290              59800.0   \n",
       "4         620  51-4072  0.9500              32660.0   \n",
       "..        ...      ...     ...                  ...   \n",
       "697       259  27-2011  0.3700              71313.6   \n",
       "698       522  51-3011  0.8900              27110.0   \n",
       "699        42  21-2011  0.0081              49450.0   \n",
       "700       669  41-9012  0.9800              36560.0   \n",
       "701       344  47-2082  0.6200              53790.0   \n",
       "\n",
       "                             education  \\\n",
       "0    High school diploma or equivalent   \n",
       "1    High school diploma or equivalent   \n",
       "2    High school diploma or equivalent   \n",
       "3    High school diploma or equivalent   \n",
       "4    High school diploma or equivalent   \n",
       "..                                 ...   \n",
       "697            Some college, no degree   \n",
       "698   No formal educational credential   \n",
       "699                  Bachelor's degree   \n",
       "700   No formal educational credential   \n",
       "701   No formal educational credential   \n",
       "\n",
       "                                            occupation  \\\n",
       "0    Grinding, Lapping, Polishing and Buffing Machi...   \n",
       "1    Separating, Filtering, Clarifying, Precipitati...   \n",
       "2    Sales Representatives, Wholesale and Manufactu...   \n",
       "3    First-Line Supervisors of Transportation and M...   \n",
       "4    Molding, Coremaking and Casting Machine Setter...   \n",
       "..                                                 ...   \n",
       "697                                             Actors   \n",
       "698                                             Bakers   \n",
       "699                                             Clergy   \n",
       "700                                             Models   \n",
       "701                                             Tapers   \n",
       "\n",
       "                                      short occupation  len  probability  \\\n",
       "0                  Tool setters, operators and tenders   35       0.9500   \n",
       "1                  Tool setters, operators and tenders   35       0.8800   \n",
       "2    Sales Representatives, Wholesale and Manufactu...   92       0.8500   \n",
       "3                           Supervisors Transportation   26       0.0290   \n",
       "4    Molding, Coremaking and Casting Machine Setter...   89       0.9500   \n",
       "..                                                 ...  ...          ...   \n",
       "697                                             Actors    6       0.3700   \n",
       "698                                             Bakers    6       0.8900   \n",
       "699                                             Clergy    6       0.0081   \n",
       "700                                             Models    6       0.9800   \n",
       "701                                             Tapers    6       0.6200   \n",
       "\n",
       "     numbEmployed  median_ann_wage employed_may2016  average_ann_wage  \n",
       "0           74600          32890.0            74600           34920.0  \n",
       "1           47160          38360.0            47160           41450.0  \n",
       "2         1404050          57140.0          1404050           68410.0  \n",
       "3          202760          57270.0           202760           59800.0  \n",
       "4          145560          30480.0           145560           32660.0  \n",
       "..            ...              ...              ...               ...  \n",
       "697         48620          33473.0            48620           71313.6  \n",
       "698        180450          25090.0           180450           27110.0  \n",
       "699         49320          45740.0            49320           49450.0  \n",
       "700          4390          21870.0             4390           36560.0  \n",
       "701         18480          48990.0            18480           53790.0  \n",
       "\n",
       "[702 rows x 13 columns]"
      ]
     },
     "execution_count": 6,
     "metadata": {},
     "output_type": "execute_result"
    }
   ],
   "source": [
    "#import jobs automation dataset\n",
    "jobs=pd.read_csv(\"job-automation-probability.csv\")\n",
    "jobs"
   ]
  },
  {
   "cell_type": "code",
   "execution_count": 10,
   "metadata": {},
   "outputs": [
    {
     "data": {
      "image/png": "[encoded data removed]",
      "text/plain": [
       "<Figure size 432x288 with 1 Axes>"
      ]
     },
     "metadata": {
      "needs_background": "light"
     },
     "output_type": "display_data"
    }
   ],
   "source": [
    "#histogram for probability\n",
    "plt.hist(jobs['probability'])\n",
    "\n",
    "plt.xlabel('Probability', fontsize=15)\n",
    "plt.ylabel('Count', fontsize=15)\n",
    "plt.title(\"Histogram of Variable Probability\", fontsize=20)\n",
    "\n",
    "\n",
    "plt.show()\n"
   ]
  },
  {
   "cell_type": "code",
   "execution_count": 17,
   "metadata": {},
   "outputs": [
    {
     "data": {
      "image/png": "[encoded data removed]",
      "text/plain": [
       "<Figure size 432x288 with 1 Axes>"
      ]
     },
     "metadata": {
      "needs_background": "light"
     },
     "output_type": "display_data"
    }
   ],
   "source": [
    "#scatter plot of 'Average annual wage' and 'numbEmployed'\n",
    "#plot(x,y,data)\n",
    "plt.plot('Average annual wage','numbEmployed',linestyle='none', marker='o',data = jobs)\n",
    "\n",
    "plt.xlabel('Average annual wage')\n",
    "plt.ylabel('Number Employed')\n",
    "\n",
    "plt.show()"
   ]
  },
  {
   "cell_type": "code",
   "execution_count": null,
   "metadata": {},
   "outputs": [],
   "source": [
    "#combine the two graphs\n",
    "fig, ax = plt.subplots()\n",
    "\n",
    "ax1 = \n"
   ]
  },
  {
   "cell_type": "code",
   "execution_count": 19,
   "metadata": {},
   "outputs": [
    {
     "name": "stdout",
     "output_type": "stream",
     "text": [
      "Collecting seaborn\n",
      "  Using cached seaborn-0.11.0-py3-none-any.whl (283 kB)\n",
      "Requirement already satisfied, skipping upgrade: scipy>=1.0 in c:\\programdata\\anaconda3\\lib\\site-packages (from seaborn) (1.5.0)\n",
      "Requirement already satisfied, skipping upgrade: numpy>=1.15 in c:\\programdata\\anaconda3\\lib\\site-packages (from seaborn) (1.19.1)\n",
      "Requirement already satisfied, skipping upgrade: pandas>=0.23 in c:\\programdata\\anaconda3\\lib\\site-packages (from seaborn) (1.1.1)\n",
      "Requirement already satisfied, skipping upgrade: matplotlib>=2.2 in c:\\programdata\\anaconda3\\lib\\site-packages (from seaborn) (3.3.1)\n",
      "Requirement already satisfied, skipping upgrade: python-dateutil>=2.7.3 in c:\\programdata\\anaconda3\\lib\\site-packages (from pandas>=0.23->seaborn) (2.8.1)\n",
      "Requirement already satisfied, skipping upgrade: pytz>=2017.2 in c:\\programdata\\anaconda3\\lib\\site-packages (from pandas>=0.23->seaborn) (2020.1)\n",
      "Requirement already satisfied, skipping upgrade: certifi>=2020.06.20 in c:\\programdata\\anaconda3\\lib\\site-packages (from matplotlib>=2.2->seaborn) (2020.6.20)\n",
      "Requirement already satisfied, skipping upgrade: pillow>=6.2.0 in c:\\programdata\\anaconda3\\lib\\site-packages (from matplotlib>=2.2->seaborn) (7.2.0)\n",
      "Requirement already satisfied, skipping upgrade: pyparsing!=2.0.4,!=2.1.2,!=2.1.6,>=2.0.3 in c:\\programdata\\anaconda3\\lib\\site-packages (from matplotlib>=2.2->seaborn) (2.4.7)\n",
      "Requirement already satisfied, skipping upgrade: cycler>=0.10 in c:\\programdata\\anaconda3\\lib\\site-packages (from matplotlib>=2.2->seaborn) (0.10.0)\n",
      "Requirement already satisfied, skipping upgrade: kiwisolver>=1.0.1 in c:\\programdata\\anaconda3\\lib\\site-packages (from matplotlib>=2.2->seaborn) (1.2.0)\n",
      "Requirement already satisfied, skipping upgrade: six>=1.5 in c:\\programdata\\anaconda3\\lib\\site-packages (from python-dateutil>=2.7.3->pandas>=0.23->seaborn) (1.15.0)\n",
      "Installing collected packages: seaborn\n",
      "Successfully installed seaborn-0.11.0\n"
     ]
    }
   ],
   "source": [
    "!pip install seaborn --upgrade --user"
   ]
  },
  {
   "cell_type": "code",
   "execution_count": 20,
   "metadata": {},
   "outputs": [],
   "source": [
    "import seaborn as sns"
   ]
  },
  {
   "cell_type": "code",
   "execution_count": 21,
   "metadata": {},
   "outputs": [],
   "source": [
    "sns.catplot?"
   ]
  }
 ],
 "metadata": {
  "kernelspec": {
   "display_name": "Python 3",
   "language": "python",
   "name": "python3"
  },
  "language_info": {
   "codemirror_mode": {
    "name": "ipython",
    "version": 3
   },
   "file_extension": ".py",
   "mimetype": "text/x-python",
   "name": "python",
   "nbconvert_exporter": "python",
   "pygments_lexer": "ipython3",
   "version": "3.8.5"
  }
 },
 "nbformat": 4,
 "nbformat_minor": 4
}
